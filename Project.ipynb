{
  "nbformat": 4,
  "nbformat_minor": 0,
  "metadata": {
    "colab": {
      "name": "Project.ipynb",
      "provenance": [],
      "collapsed_sections": []
    },
    "hide_input": false,
    "kernelspec": {
      "display_name": "Python 3",
      "language": "python",
      "name": "python3"
    },
    "language_info": {
      "codemirror_mode": {
        "name": "ipython",
        "version": 3
      },
      "file_extension": ".py",
      "mimetype": "text/x-python",
      "name": "python",
      "nbconvert_exporter": "python",
      "pygments_lexer": "ipython3",
      "version": "3.7.3"
    },
    "latex_envs": {
      "LaTeX_envs_menu_present": true,
      "autoclose": false,
      "autocomplete": true,
      "bibliofile": "biblio.bib",
      "cite_by": "apalike",
      "current_citInitial": 1,
      "eqLabelWithNumbers": true,
      "eqNumInitial": 1,
      "hotkeys": {
        "equation": "Ctrl-E",
        "itemize": "Ctrl-I"
      },
      "labels_anchors": false,
      "latex_user_defs": false,
      "report_style_numbering": false,
      "user_envs_cfg": false
    },
    "toc": {
      "base_numbering": 1,
      "nav_menu": {},
      "number_sections": true,
      "sideBar": true,
      "skip_h1_title": false,
      "title_cell": "Table of Contents",
      "title_sidebar": "Contents",
      "toc_cell": false,
      "toc_position": {},
      "toc_section_display": true,
      "toc_window_display": false
    },
    "varInspector": {
      "cols": {
        "lenName": 16,
        "lenType": 16,
        "lenVar": 40
      },
      "kernels_config": {
        "python": {
          "delete_cmd_postfix": "",
          "delete_cmd_prefix": "del ",
          "library": "var_list.py",
          "varRefreshCmd": "print(var_dic_list())"
        },
        "r": {
          "delete_cmd_postfix": ") ",
          "delete_cmd_prefix": "rm(",
          "library": "var_list.r",
          "varRefreshCmd": "cat(var_dic_list()) "
        }
      },
      "types_to_exclude": [
        "module",
        "function",
        "builtin_function_or_method",
        "instance",
        "_Feature"
      ],
      "window_display": false
    }
  },
  "cells": [
    {
      "cell_type": "markdown",
      "metadata": {
        "id": "oIqSkWP8hYN0",
        "colab_type": "text"
      },
      "source": [
        "# **On Perfectly Secure Cryptography with Adversarial Neural Cryptography**"
      ]
    },
    {
      "cell_type": "markdown",
      "metadata": {
        "id": "yNRIDjp8iSmc",
        "colab_type": "text"
      },
      "source": [
        "Protecting the exchange of data on insecure channel is very\n",
        "important."
      ]
    },
    {
      "cell_type": "code",
      "metadata": {
        "id": "WfQd6sCoiUa_",
        "colab_type": "code",
        "colab": {
          "base_uri": "https://localhost:8080/",
          "height": 288
        },
        "outputId": "c50b7e0a-f74f-4bfa-9f70-8b8b7539886d"
      },
      "source": [
        "from IPython.display import Image\n",
        "Image(\"/content/drive/My Drive/On-perfect-secure/Capture1.png\")"
      ],
      "execution_count": 19,
      "outputs": [
        {
          "output_type": "execute_result",
          "data": {
            "image/png": "[encoded data removed]",
            "text/plain": [
              "<IPython.core.display.Image object>"
            ]
          },
          "metadata": {
            "tags": []
          },
          "execution_count": 19
        }
      ]
    },
    {
      "cell_type": "markdown",
      "metadata": {
        "id": "mQPyJ1eLkErx",
        "colab_type": "text"
      },
      "source": [
        " We will develop an AI capable the cryptography algorithm One-Time Pad (OTP) algorithm to communicate securely."
      ]
    },
    {
      "cell_type": "markdown",
      "metadata": {
        "id": "7TDtWqiBl2bF",
        "colab_type": "text"
      },
      "source": [
        "#A recent work in 2016 researchers at google brain\n",
        " defined the concept of ANC(Adversarial Neural Cryptography).\n",
        "But didn’t explore the security.\n",
        "#In 2017 Murilo Coutinho et al\n",
        " propose the new model call\n",
        "CPA-ANC(Chosen Plaintext Attacks-ANC) to improve the\n",
        "security of the ANC model."
      ]
    },
    {
      "cell_type": "markdown",
      "metadata": {
        "colab_type": "text",
        "id": "AulXb8adYg8_"
      },
      "source": [
        "# For this project we N=4,16,32 because of he take more time for when N is big"
      ]
    },
    {
      "cell_type": "markdown",
      "metadata": {
        "colab_type": "text",
        "id": "aWOu6PMOW-K7"
      },
      "source": [
        "# Define The Parameters"
      ]
    },
    {
      "cell_type": "code",
      "metadata": {
        "ExecuteTime": {
          "end_time": "2020-01-17T15:05:07.273903Z",
          "start_time": "2020-01-17T15:05:07.262321Z"
        },
        "colab_type": "code",
        "id": "v-9aE7ShCPxz",
        "colab": {}
      },
      "source": [
        "\n",
        "KEY_TEXT=4\n",
        "MSG_TEXT=4\n",
        "C_TEXT=4\n",
        "LEARNING_RATE=0.0002\n",
        "BATCH_SIZE=512\n",
        "m_train=2**(MSG_TEXT)\n",
        "NUM_BATCH_SIZE=128\n",
        "MAX_INTERATION=100000\n",
        "BOB_ONE_BIT_WRONG_THRESH=0.0025\n",
        "CLIP_VALUE = 1\n",
        "LOOPS_PER_PRINT = 100   # every 100 loops print one time\n",
        "#SAVE_PATH=\"/content/sample_data/adversarial_neural_cryptography_model_and_optimizer\"\n",
        "DEVICE = \"cuda:0\" if torch.cuda.is_available() else \"cpu\""
      ],
      "execution_count": 20,
      "outputs": []
    },
    {
      "cell_type": "code",
      "metadata": {
        "ExecuteTime": {
          "end_time": "2020-01-16T15:32:07.960173Z",
          "start_time": "2020-01-16T15:32:07.954204Z"
        },
        "colab_type": "code",
        "id": "6N_iFotPuX8_",
        "colab": {
          "base_uri": "https://localhost:8080/",
          "height": 35
        },
        "outputId": "4b1c7fdf-a9c3-4462-e545-1a616a97b161"
      },
      "source": [
        "m_train/256"
      ],
      "execution_count": 21,
      "outputs": [
        {
          "output_type": "execute_result",
          "data": {
            "text/plain": [
              "0.0625"
            ]
          },
          "metadata": {
            "tags": []
          },
          "execution_count": 21
        }
      ]
    },
    {
      "cell_type": "markdown",
      "metadata": {
        "colab_type": "text",
        "id": "TG0_y0ZNYooW"
      },
      "source": [
        "# PACKAGE USED IN OUR TEST"
      ]
    },
    {
      "cell_type": "code",
      "metadata": {
        "ExecuteTime": {
          "end_time": "2020-01-17T15:02:48.604785Z",
          "start_time": "2020-01-17T15:02:43.281285Z"
        },
        "colab_type": "code",
        "id": "NJyvYl5QpfNA",
        "colab": {}
      },
      "source": [
        "import torch\n",
        "import numpy as np\n",
        "import torch.nn as nn\n",
        "import torch.optim as optim\n",
        "\n",
        "import matplotlib.pyplot as plt\n",
        "import time"
      ],
      "execution_count": 22,
      "outputs": []
    },
    {
      "cell_type": "markdown",
      "metadata": {
        "colab_type": "text",
        "id": "MRRVAwmKcONL"
      },
      "source": [
        "# We define the function we want to use to transforme "
      ]
    },
    {
      "cell_type": "markdown",
      "metadata": {
        "id": "LCcfJarfnC7A",
        "colab_type": "text"
      },
      "source": [
        "we use the unit circle by mapping the bit 0 to the angle 0\n",
        "and the bit 1 to the angle π. f(b) = arccos (1 − 2b)\n",
        "\n",
        "The inverse of f provides the mapping of an angle a to a\n",
        "“continuous bit” :\n",
        "f*(a) = (1 − cos (a))/2"
      ]
    },
    {
      "cell_type": "code",
      "metadata": {
        "id": "vBcZno70mVyj",
        "colab_type": "code",
        "colab": {}
      },
      "source": [
        "from IPython.display import Image\n",
        "Image(\"/content/drive/My Drive/On-perfect-secure/Capture1.png\")"
      ],
      "execution_count": null,
      "outputs": []
    },
    {
      "cell_type": "code",
      "metadata": {
        "ExecuteTime": {
          "end_time": "2020-01-17T15:02:55.095125Z",
          "start_time": "2020-01-17T15:02:55.087548Z"
        },
        "colab_type": "code",
        "id": "5SnH4AFZcZAF",
        "colab": {}
      },
      "source": [
        "def function(x):\n",
        "  return torch.acos((1-2*x))\n",
        "  ''' ''' \n",
        "\n",
        "def inv_function(y):\n",
        "  return (1-torch.cos(y))/2"
      ],
      "execution_count": 23,
      "outputs": []
    },
    {
      "cell_type": "markdown",
      "metadata": {
        "colab_type": "text",
        "id": "BjRqf7MhZaJl"
      },
      "source": [
        "# We define Our Networks for Alice and Bob"
      ]
    },
    {
      "cell_type": "code",
      "metadata": {
        "id": "IkZ85zoKpV66",
        "colab_type": "code",
        "colab": {
          "base_uri": "https://localhost:8080/",
          "height": 318
        },
        "outputId": "b0fba4a4-adb1-4ec0-ff2d-67395cf17623"
      },
      "source": [
        "Image(\"/content/drive/My Drive/On-perfect-secure/Capture2.PNG\")"
      ],
      "execution_count": 40,
      "outputs": [
        {
          "output_type": "execute_result",
          "data": {
            "image/png": "[encoded data removed]",
            "text/plain": [
              "<IPython.core.display.Image object>"
            ]
          },
          "metadata": {
            "tags": []
          },
          "execution_count": 40
        }
      ]
    },
    {
      "cell_type": "code",
      "metadata": {
        "ExecuteTime": {
          "end_time": "2020-01-17T15:02:59.945308Z",
          "start_time": "2020-01-17T15:02:59.939552Z"
        },
        "colab_type": "code",
        "id": "HWPbCbBIY4L6",
        "colab": {}
      },
      "source": [
        "class Network(nn.Module):\n",
        "    '''\n",
        "    Standard Convolutional layers setup used by Alice and Bob.\n",
        "    Input: 2N tensor, PlainText+MessageKey(Alice) or CipherText+Key(Bob)\n",
        "    Output: N tensor, CipherText(Alice) or PlainText(Bob)\n",
        "    '''\n",
        "    def __init__(self):\n",
        "        super(Network,self).__init__()\n",
        "        self.fc_in =MSG_TEXT + KEY_TEXT\n",
        "        self.fc_out = KEY_TEXT\n",
        "        self.l1 = nn.Linear(self.fc_in,self.fc_out,bias=False)\n",
        "\n",
        "    def forward(self,input):\n",
        "\n",
        "        inputs = function(input)\n",
        "        #print(\"inputs:\",inputs)\n",
        "        out = self.l1(inputs) #requires_grad\n",
        "        #print(\"out:\",out.requires_grad)\n",
        "        _out = inv_function(out) #possibly removes requires grad\n",
        "        #print(\"_out:\",_out.requires_grad)\n",
        "        #print(\"out:\",_out)\n",
        "        \n",
        "        output = _out\n",
        "        #print('one pass AB', output.size())\n",
        "        return output\n"
      ],
      "execution_count": 24,
      "outputs": []
    },
    {
      "cell_type": "markdown",
      "metadata": {
        "colab_type": "text",
        "id": "fYjBojDfcHLs"
      },
      "source": [
        "# Function to Generate DATA and Plot"
      ]
    },
    {
      "cell_type": "code",
      "metadata": {
        "ExecuteTime": {
          "end_time": "2020-01-17T15:03:01.621573Z",
          "start_time": "2020-01-17T15:03:01.616864Z"
        },
        "colab_type": "code",
        "id": "z492Tw1na2dZ",
        "colab": {}
      },
      "source": [
        "def generate_data(batch_size, ptext_size, key_size):\n",
        "    \"\"\"\n",
        "    generate data.\n",
        "    :param batch_size: batch size, hyper-parameters, in this program BATCH_SIZE is 256\n",
        "    :param ptext_size: ptext size, hyper-parameters, in this program PTEXT_SIZE is 16\n",
        "    :param key_size: key's size, hyper-parameters, in this program KEY_SIZE is 16\n",
        "    :return: ptext and key, in this program size are both [256, 16]\n",
        "    \"\"\"\n",
        "    ptext = torch.randint(0, 2, (batch_size, ptext_size), dtype=torch.float) * 1\n",
        "    key = torch.randint(0, 2, (batch_size, key_size), dtype=torch.float) * 1\n",
        "    return ptext, key"
      ],
      "execution_count": 25,
      "outputs": []
    },
    {
      "cell_type": "code",
      "metadata": {
        "ExecuteTime": {
          "end_time": "2020-01-17T15:03:02.542239Z",
          "start_time": "2020-01-17T15:03:02.537923Z"
        },
        "colab_type": "code",
        "id": "kBPlqZ_J2f_m",
        "colab": {}
      },
      "source": [
        "def gen_data(n=BATCH_SIZE, msg_len=MSG_TEXT, key_len=KEY_TEXT):\n",
        "    return (np.random.randint(0, 2, size=(n, msg_len)) * 1), \\\n",
        "           (np.random.randint(0, 2, size=(n, key_len)) * 1)"
      ],
      "execution_count": 26,
      "outputs": []
    },
    {
      "cell_type": "code",
      "metadata": {
        "colab_type": "code",
        "id": "HWYVm7L32vWn",
        "colab": {}
      },
      "source": [
        ""
      ],
      "execution_count": null,
      "outputs": []
    },
    {
      "cell_type": "code",
      "metadata": {
        "ExecuteTime": {
          "end_time": "2020-01-16T15:32:12.295428Z",
          "start_time": "2020-01-16T15:32:12.291601Z"
        },
        "colab_type": "code",
        "id": "2jDVVu4qdD68",
        "colab": {}
      },
      "source": [
        "msg,key=gen_data(512,4,4)"
      ],
      "execution_count": 32,
      "outputs": []
    },
    {
      "cell_type": "code",
      "metadata": {
        "ExecuteTime": {
          "end_time": "2020-01-16T15:32:12.475599Z",
          "start_time": "2020-01-16T15:32:12.470721Z"
        },
        "colab_type": "code",
        "id": "T54ZnJlUrt2w",
        "colab": {
          "base_uri": "https://localhost:8080/",
          "height": 35
        },
        "outputId": "87b823eb-49c7-46ab-bec7-d5fd0f655fd0"
      },
      "source": [
        "msg.shape"
      ],
      "execution_count": 33,
      "outputs": [
        {
          "output_type": "execute_result",
          "data": {
            "text/plain": [
              "(512, 4)"
            ]
          },
          "metadata": {
            "tags": []
          },
          "execution_count": 33
        }
      ]
    },
    {
      "cell_type": "code",
      "metadata": {
        "ExecuteTime": {
          "end_time": "2020-01-17T15:03:07.141276Z",
          "start_time": "2020-01-17T15:03:07.133662Z"
        },
        "colab_type": "code",
        "id": "P_R1s_mCdME1",
        "colab": {}
      },
      "source": [
        "def plot_wrong( alice_bob_wrong_for_plot):\n",
        "    \"\"\"\n",
        "    plot epoch-wrong picture\n",
        "    \n",
        "    :param alice_bob_wrong_for_plot: a list, element is the mean of bob one bit wrong\n",
        "    :return:\n",
        "    \"\"\"\n",
        "    plt.plot(range(1, len(alice_bob_wrong_for_plot)+1), alice_bob_wrong_for_plot, label='Alice and Bob')\n",
        "    plt.xlabel(\"Step\")\n",
        "    plt.ylabel(\"Decryption AliceAnd Bob\")\n",
        "    plt.title(\"optimizer_alice_bob_times\")\n",
        "    plt.legend()\n",
        "    plt.show()"
      ],
      "execution_count": 34,
      "outputs": []
    },
    {
      "cell_type": "markdown",
      "metadata": {
        "id": "WjZ-jxpooko3",
        "colab_type": "text"
      },
      "source": [
        "# Training the model "
      ]
    },
    {
      "cell_type": "code",
      "metadata": {
        "ExecuteTime": {
          "end_time": "2020-01-16T15:33:14.967272Z",
          "start_time": "2020-01-16T15:32:51.761916Z"
        },
        "colab_type": "code",
        "id": "1gfR3Nnrdd4E",
        "colab": {
          "base_uri": "https://localhost:8080/",
          "height": 313
        },
        "outputId": "6926d294-99f5-4ef3-bd2c-c10b093b1dba"
      },
      "source": [
        "def train():\n",
        "\n",
        "  alice_bob_one_bit_wrong_mean = 0.0\n",
        "\n",
        "  alice_bob_wrong_for_plot = []\n",
        "  #torch.manual_seed(10)\n",
        "  alice_bob = Network()\n",
        "  #bob = Network()\n",
        "\n",
        "  alice_bob.train()\n",
        "  #bob.train()\n",
        "\n",
        "  optimizer_alice_bob = optim.Adam(alice_bob.parameters(), lr=LEARNING_RATE)\n",
        "  #optimizer_bob = optim.Adam(bob.parameters(), lr=LEARNING_RATE)\n",
        "\n",
        "\n",
        "  alice_bob_reconstruction_error = nn.L1Loss()\n",
        "\n",
        "  for i in range(60):\n",
        "\n",
        "    start_time = time.time()\n",
        "\n",
        "    '''torch.save({\n",
        "        'Alice_state_dict': alice_bob.state_dict(),\n",
        "        \n",
        "        'optimizer_alice_bob_state_dict': optimizer_alice_bob.state_dict(),\n",
        "         }, SAVE_PATH)'''\n",
        "    checkpoint={'alice_bob':Network(),\n",
        "                'state_dict': alice_bob.state_dict(),\n",
        "                'optimizer': optimizer_alice_bob.state_dict()\n",
        "                }\n",
        "    torch.save(checkpoint,'checkpoint.pth')\n",
        "\n",
        "    #for network,num_minibatch in {'alice_bob': NUM_BATCH_SIZE }.items():\n",
        "\n",
        "    for minibatch in range(128):\n",
        "      #np.random.seed(i)\n",
        "      data = gen_data(BATCH_SIZE, MSG_TEXT, KEY_TEXT)\n",
        "      msg = torch.tensor(data[0], dtype=torch.float)\n",
        "      key = torch.tensor(data[1], dtype=torch.float)\n",
        "      alice_input = torch.cat((msg, key), 1)\n",
        "      with torch.no_grad():\n",
        "        ctext= alice_bob(alice_input)\n",
        "      \n",
        "      bob_input = torch.cat((ctext, key), 1)\n",
        "      ptext_bob = alice_bob(bob_input)\n",
        "      #print(ptext_bob)\n",
        "\n",
        "      alice_bob_error=alice_bob_reconstruction_error(ptext_bob,msg)\n",
        "      #print(alice_bob_error)\n",
        "\n",
        "\n",
        "\n",
        "      #optimizer_alice.zero_grad()\n",
        "      optimizer_alice_bob.zero_grad()\n",
        "      alice_bob_error.backward()\n",
        "      #print(alice_bob_error.grad)\n",
        "      #print(alice_bob_error)\n",
        "      nn.utils.clip_grad_value_(alice_bob.parameters(), CLIP_VALUE)\n",
        "      #nn.utils.clip_grad_value_(bob.parameters(), CLIP_VALUE)\n",
        "\n",
        "\n",
        "      #optimizer_alice.step()\n",
        "      optimizer_alice_bob.step()\n",
        "\n",
        "      time_elapsed = time.time() - start_time\n",
        "\n",
        "    bob_one_bit_wrong_mean = alice_bob_error.cpu().detach().numpy()\n",
        "    \n",
        "\n",
        "\n",
        "    if i % LOOPS_PER_PRINT == 0:\n",
        "      print(f'Epoch: {i + 1:06d} | '\n",
        "            f'one epoch time: {time_elapsed:.3f} | '\n",
        "            f'bob one bit wrong: {bob_one_bit_wrong_mean:.4f} |')\n",
        "    alice_bob_wrong_for_plot.append(bob_one_bit_wrong_mean)\n",
        "\n",
        "  plot_wrong(alice_bob_wrong_for_plot)\n",
        "\n",
        "\n",
        "\n",
        "\n",
        "if __name__ == \"__main__\":\n",
        "    train()"
      ],
      "execution_count": 35,
      "outputs": [
        {
          "output_type": "stream",
          "text": [
            "Epoch: 000001 | one epoch time: 0.100 | bob one bit wrong: 0.4876 |\n"
          ],
          "name": "stdout"
        },
        {
          "output_type": "display_data",
          "data": {
            "image/png": "[encoded data removed]",
            "text/plain": [
              "<Figure size 432x288 with 1 Axes>"
            ]
          },
          "metadata": {
            "tags": [],
            "needs_background": "light"
          }
        }
      ]
    },
    {
      "cell_type": "code",
      "metadata": {
        "ExecuteTime": {
          "end_time": "2020-01-16T15:27:19.455394Z",
          "start_time": "2020-01-16T15:27:19.291027Z"
        },
        "colab_type": "code",
        "id": "0_gU49FYUdXW",
        "colab": {
          "base_uri": "https://localhost:8080/",
          "height": 55
        },
        "outputId": "a1fff7d9-d5b2-42fb-c5c0-48e6c11e6037"
      },
      "source": [
        "from google.colab import drive\n",
        "drive.mount('/content/drive')"
      ],
      "execution_count": 8,
      "outputs": [
        {
          "output_type": "stream",
          "text": [
            "Drive already mounted at /content/drive; to attempt to forcibly remount, call drive.mount(\"/content/drive\", force_remount=True).\n"
          ],
          "name": "stdout"
        }
      ]
    },
    {
      "cell_type": "code",
      "metadata": {
        "ExecuteTime": {
          "end_time": "2020-01-16T15:31:32.651591Z",
          "start_time": "2020-01-16T15:31:32.645205Z"
        },
        "colab_type": "code",
        "id": "w3t8srRVC9Wl",
        "colab": {
          "base_uri": "https://localhost:8080/",
          "height": 35
        },
        "outputId": "6fb38260-1958-4543-9f2c-4dd8b5b13cda"
      },
      "source": [
        "2**16/512\n"
      ],
      "execution_count": null,
      "outputs": [
        {
          "output_type": "execute_result",
          "data": {
            "text/plain": [
              "128.0"
            ]
          },
          "metadata": {
            "tags": []
          },
          "execution_count": 17
        }
      ]
    },
    {
      "cell_type": "code",
      "metadata": {
        "ExecuteTime": {
          "end_time": "2020-01-17T15:04:13.747852Z",
          "start_time": "2020-01-17T15:04:13.738975Z"
        },
        "colab_type": "code",
        "id": "Qfv1qknCIMP6",
        "colab": {}
      },
      "source": [
        "def load_checkpoint(filepath):\n",
        "    checkpoint = torch.load(filepath)\n",
        "    model = checkpoint['alice_bob']\n",
        "    model.load_state_dict(checkpoint['state_dict'])\n",
        "    for parameter in model.parameters():\n",
        "        parameter.requires_grad = False\n",
        "\n",
        "    model.eval()\n",
        "    return model\n",
        "\n",
        "#model = load_checkpoint('/content/checkpoint.pth')"
      ],
      "execution_count": 36,
      "outputs": []
    },
    {
      "cell_type": "code",
      "metadata": {
        "ExecuteTime": {
          "end_time": "2020-01-17T15:07:05.821289Z",
          "start_time": "2020-01-17T15:07:05.792884Z"
        },
        "colab_type": "code",
        "id": "IxwZafAA65Ij",
        "colab": {
          "base_uri": "https://localhost:8080/",
          "height": 199
        },
        "outputId": "2c4582b7-fb37-41a3-95c1-f8cd702fc7b9"
      },
      "source": [
        "import numpy as np\n",
        "cipher=[]\n",
        "pred=[]\n",
        "plaitxt=[]\n",
        "def validate():\n",
        "    \"\"\"\n",
        "    generate a ptext and key and compare them to the output of the model\n",
        "    :return:\n",
        "    \n",
        "    \"\"\"\n",
        "    fail=0\n",
        "    count=0\n",
        "    for i in range(1):\n",
        "\n",
        "      data = gen_data(BATCH_SIZE, MSG_TEXT, KEY_TEXT)\n",
        "      msg = torch.tensor(data[0], dtype=torch.float)\n",
        "      key = torch.tensor(data[1], dtype=torch.float)\n",
        "\n",
        "      #alice_bob= model_load_checkpoint()\n",
        "      alice_bob = load_checkpoint('/content/checkpoint.pth')\n",
        "      alice_bob.l1.weight=torch.nn.Parameter(alice_bob.l1.weight.round()) #Not rounded off\n",
        "      with torch.no_grad():\n",
        "        ctext = alice_bob(torch.cat((msg, key), 1))\n",
        "\n",
        "      with torch.no_grad():\n",
        "        predict_ptext_bob = alice_bob(torch.cat((ctext, key), 1))\n",
        "    \n",
        "\n",
        "      # for better print\n",
        "      ptext = msg.cpu().detach().numpy()\n",
        "      predict_ptext_bob = predict_ptext_bob.cpu().detach().numpy()\n",
        "\n",
        "      print('ciphetext:\\n{}\\n\\n Real ptext:\\n{}\\n\\nptext bob:\\n{}\\n\\nptext '.format(ctext[0],ptext[0], predict_ptext_bob[0]))\n",
        "    return ctext, ptext,predict_ptext_bob\n",
        "    #print(count,fail)\n",
        "\n",
        "    \n",
        "\n",
        "if __name__ == '__main__':\n",
        "\n",
        "    ctext, ptext,predict_ptext_bob=validate()"
      ],
      "execution_count": 38,
      "outputs": [
        {
          "output_type": "stream",
          "text": [
            "ciphetext:\n",
            "tensor([0., 0., 1., 0.])\n",
            "\n",
            " Real ptext:\n",
            "[0. 0. 1. 1.]\n",
            "\n",
            "ptext bob:\n",
            "[0. 0. 1. 0.]\n",
            "\n",
            "ptext \n"
          ],
          "name": "stdout"
        }
      ]
    },
    {
      "cell_type": "code",
      "metadata": {
        "id": "AgiVeBngpbD2",
        "colab_type": "code",
        "colab": {
          "base_uri": "https://localhost:8080/",
          "height": 393
        },
        "outputId": "328099b4-9dad-42e2-b65b-4390f77fce47"
      },
      "source": [
        "Image(\"/content/drive/My Drive/On-perfect-secure/Capture4.PNG\")"
      ],
      "execution_count": 42,
      "outputs": [
        {
          "output_type": "execute_result",
          "data": {
            "image/png": "[encoded data removed]",
            "text/plain": [
              "<IPython.core.display.Image object>"
            ]
          },
          "metadata": {
            "tags": []
          },
          "execution_count": 42
        }
      ]
    },
    {
      "cell_type": "markdown",
      "metadata": {
        "id": "pSKCQHK6qIph",
        "colab_type": "text"
      },
      "source": [
        "\n",
        "all process was successful without any error\n",
        "Alice and Bob can communicate, and the system is not\n",
        "secure.\n",
        "\n"
      ]
    },
    {
      "cell_type": "code",
      "metadata": {
        "ExecuteTime": {
          "end_time": "2020-01-16T15:14:44.002074Z",
          "start_time": "2020-01-16T15:14:43.984817Z"
        },
        "colab_type": "code",
        "id": "yGYyfNyj_O7j",
        "colab": {
          "base_uri": "https://localhost:8080/",
          "height": 35
        },
        "outputId": "848a99c7-7fc3-47e8-aeb7-a74116a00587"
      },
      "source": [
        "m1=torch.tensor([0.,1.,1.,1.])\n",
        "k1=torch.tensor([1.,0.,1.,1.],)\n",
        "m2=torch.tensor([1.,0.,1.,1.])\n",
        "k2=torch.tensor([0.,1.,1.,1.])\n",
        "m3=torch.tensor([1.,1.,0.,1.])\n",
        "k3=torch.tensor([1.,1.,1.,0.])\n",
        "m4=torch.tensor([1.,1.,1.,0.])\n",
        "k4=torch.tensor([1.,1.,0.,1.])\n",
        "torch.cat((m2, k1))"
      ],
      "execution_count": null,
      "outputs": [
        {
          "output_type": "execute_result",
          "data": {
            "text/plain": [
              "tensor([1., 0., 1., 1., 1., 0., 1., 1.])"
            ]
          },
          "metadata": {
            "tags": []
          },
          "execution_count": 49
        }
      ]
    },
    {
      "cell_type": "code",
      "metadata": {
        "colab_type": "code",
        "id": "s0Ch5AfFNhBa",
        "colab": {}
      },
      "source": [
        "data = gen_data(BATCH_SIZE, MSG_TEXT, KEY_TEXT)\n",
        "msg = torch.tensor([1.,0.,1.,1.], dtype=torch.float)\n",
        "key = torch.tensor([0.,1.,1.,1.], dtype=torch.float)"
      ],
      "execution_count": null,
      "outputs": []
    },
    {
      "cell_type": "code",
      "metadata": {
        "ExecuteTime": {
          "end_time": "2020-01-17T15:16:21.494062Z",
          "start_time": "2020-01-17T15:16:21.479109Z"
        },
        "colab_type": "code",
        "id": "TE8ya8ngKoaP",
        "colab": {}
      },
      "source": [
        "\n",
        "def validate():\n",
        "    \"\"\"\n",
        "    generate a ptext and key and compare them to the output of the model\n",
        "    :return:\n",
        "    \"\"\"\n",
        "\n",
        "    for i in range(1):\n",
        "\n",
        "      msg = torch.tensor([0.,1.,1.,0.], dtype=torch.float)\n",
        "      key = torch.tensor([0.,1.,1.,1.], dtype=torch.float)\n",
        "\n",
        "      #alice_bob= model_load_checkpoint()\n",
        "      alice_bob = load_checkpoint('/content/checkpoint.pth')\n",
        "      alice_bob.l1.weight=torch.nn.Parameter(alice_bob.l1.weight.round()) #Not rounded off\n",
        "      with torch.no_grad():\n",
        "        ctext = alice_bob(torch.cat((msg, key), 0))\n",
        "\n",
        "      with torch.no_grad():\n",
        "        predict_ptext_bob = alice_bob(torch.cat((ctext, key), 0))\n",
        "    \n",
        "\n",
        "      # for better print\n",
        "      ptext = msg.cpu().detach().numpy()\n",
        "      predict_ptext_bob = predict_ptext_bob.cpu().detach().numpy()\n",
        "\n",
        "      print('ciphetext:\\n{}\\n\\n Real ptext:\\n{}\\n\\nptext bob:\\n{}\\n\\nptext  b:\\n\\npt '.format(ctext,ptext, predict_ptext_bob))\n",
        "    #print(count,fail)\n",
        "\n",
        "\n",
        "if __name__ == '__main__':\n",
        "\n",
        "    validate()"
      ],
      "execution_count": null,
      "outputs": []
    },
    {
      "cell_type": "markdown",
      "metadata": {
        "id": "xJGT8XRiquAZ",
        "colab_type": "text"
      },
      "source": [
        "# **Second Part**"
      ]
    },
    {
      "cell_type": "code",
      "metadata": {
        "colab_type": "code",
        "id": "wzN0usMILmR4",
        "colab": {
          "base_uri": "https://localhost:8080/",
          "height": 417
        },
        "outputId": "8ec0158c-34ff-4e16-b78c-5ced4ccd7914"
      },
      "source": [
        "Image(\"/content/drive/My Drive/On-perfect-secure/Capture6.PNG\")"
      ],
      "execution_count": 44,
      "outputs": [
        {
          "output_type": "execute_result",
          "data": {
            "image/png": "[encoded data removed]",
            "text/plain": [
              "<IPython.core.display.Image object>"
            ]
          },
          "metadata": {
            "tags": []
          },
          "execution_count": 44
        }
      ]
    },
    {
      "cell_type": "code",
      "metadata": {
        "id": "nV8-ITwSsi7g",
        "colab_type": "code",
        "colab": {
          "base_uri": "https://localhost:8080/",
          "height": 74
        },
        "outputId": "3d48805d-f050-4708-9331-2b32de2f9a95"
      },
      "source": [
        "\n",
        "\n",
        "import seaborn as sns\n"
      ],
      "execution_count": 51,
      "outputs": [
        {
          "output_type": "stream",
          "text": [
            "/usr/local/lib/python3.6/dist-packages/statsmodels/tools/_testing.py:19: FutureWarning: pandas.util.testing is deprecated. Use the functions in the public API at pandas.testing instead.\n",
            "  import pandas.util.testing as tm\n"
          ],
          "name": "stderr"
        }
      ]
    },
    {
      "cell_type": "code",
      "metadata": {
        "id": "XIoed6FJq6kL",
        "colab_type": "code",
        "colab": {}
      },
      "source": [
        "class Network2(nn.Module):\n",
        "    '''\n",
        "    Standard Convolutional layers setup used by Alice and Bob.\n",
        "    Input: 2N tensor, PlainText+MessageKey(Alice) or CipherText+Key(Bob)\n",
        "    Output: N tensor, CipherText(Alice) or PlainText(Bob)\n",
        "    '''\n",
        "    def __init__(self):\n",
        "        super(Network2,self).__init__()\n",
        "        self.fc_in =MSG_TEXT\n",
        "        self.fc_out = C_TEXT\n",
        "        self.l1 = nn.Linear(self.fc_in,self.fc_out,bias=False)\n",
        "\n",
        "    def forward(self,input):\n",
        "\n",
        "        inputs = function(input)\n",
        "        #print(\"inputs:\",inputs)\n",
        "        out = self.l1(inputs) #requires_grad\n",
        "        #print(\"out:\",out.requires_grad)\n",
        "        _out = inv_function(out) #possibly removes requires grad\n",
        "        #print(\"_out:\",_out.requires_grad)\n",
        "        #print(\"out:\",_out)\n",
        "        \n",
        "        output = _out\n",
        "        #print('one pass AB', output.size())\n",
        "        return output"
      ],
      "execution_count": 52,
      "outputs": []
    },
    {
      "cell_type": "code",
      "metadata": {
        "id": "GNQk2LA5rVMj",
        "colab_type": "code",
        "colab": {}
      },
      "source": [
        "def plot_wrong( alice_bob_wrong_for_plot,eve_wrong_for_plot):\n",
        "    \"\"\"\n",
        "    plot epoch-wrong picture\n",
        "    \n",
        "    :param alice_bob_wrong_for_plot: a list, element is the mean of bob one bit wrong\n",
        "    :return:\n",
        "    \"\"\"\n",
        "    plt.plot(range(1, len(eve_wrong_for_plot)+1), eve_wrong_for_plot, label='eve one bit wrong mean')\n",
        "    plt.plot(range(1, len(alice_bob_wrong_for_plot)+1), alice_bob_wrong_for_plot, label='bob one bit wrong mean')\n",
        "    plt.xlabel(\"Epochs\")\n",
        "    plt.ylabel(\"One Bit Wrong\")\n",
        "    plt.title(\"optimizer_alice_bob_times\")\n",
        "    plt.legend()\n",
        "    plt.show()\n",
        "\n",
        "\n",
        "def plot_errors(eve_errors,alice_bob_loss):\n",
        "  sns.set_style(\"darkgrid\")\n",
        "  #plt.plot(bob_errors)\n",
        "  plt.plot(eve_errors)\n",
        "  plt.plot(alice_bob_loss)\n",
        "  plt.legend(['bob', 'eve','alice bob'])\n",
        "  plt.xlabel('Epoch')\n",
        "  plt.ylabel('Lowest Decryption error achieved')\n",
        "  plt.show()\n",
        "\n"
      ],
      "execution_count": 53,
      "outputs": []
    },
    {
      "cell_type": "code",
      "metadata": {
        "id": "F6BSug89raly",
        "colab_type": "code",
        "colab": {}
      },
      "source": [
        "def train():\n",
        "   bob_errors = []\n",
        "   eve_errors = []\n",
        "   alice_bob_los=[]\n",
        "   #torch.manual_seed(10)\n",
        "   alice_bob = Network()\n",
        "   eve = Network2()\n",
        "   alice_bob.train()\n",
        "   eve.train()\n",
        "\n",
        "   optimizer_alice_bob = optim.Adam(alice_bob.parameters(), lr=LEARNING_RATE)\n",
        "   optimizer_eve = optim.Adam(eve.parameters(), lr=LEARNING_RATE)\n",
        "\n",
        "\n",
        "   alice_bob_reconstruction_error = nn.L1Loss()\n",
        "   eve_reconstruction_error = nn.L1Loss()\n",
        "\n",
        "\n",
        "\n",
        "   for i in range(20):\n",
        "      err_bob = err_eve = 0\n",
        "\n",
        "      #print('Training networks, Epoch:', i + 1)\n",
        "      start_time = time.time()\n",
        "\n",
        "      \n",
        "      for j in range(128):\n",
        "        np.random.seed(1)\n",
        "        data = gen_data(BATCH_SIZE, MSG_TEXT, KEY_TEXT)\n",
        "        msg = torch.tensor(data[0], dtype=torch.float)\n",
        "        key = torch.tensor(data[1], dtype=torch.float)\n",
        "        alice_input = torch.cat((msg, key), 1)\n",
        "        optimizer_alice_bob.zero_grad()\n",
        "        optimizer_eve.zero_grad() \n",
        "\n",
        "        with torch.no_grad():\n",
        "          ctext= alice_bob(alice_input)\n",
        "          \n",
        "              #print(ptext_eve)\n",
        "                \n",
        "        ptext_eve = eve(ctext)\n",
        "        bob_input = torch.cat((ctext, key), 1)\n",
        "        ptext_bob = alice_bob(bob_input)\n",
        "\n",
        "        alice_bob_error=alice_bob_reconstruction_error(ptext_bob,msg)\n",
        "        eve_error =eve_reconstruction_error(ptext_eve,msg)\n",
        "          #print(eve_error)\n",
        "        alice_bob_loss=alice_bob_error -  5*min(eve_error.item(),0.2)\n",
        "\n",
        "        alice_bob_loss.backward(retain_graph=True)\n",
        "        optimizer_alice_bob.step()\n",
        "\n",
        "        \n",
        "        eve_error.backward()\n",
        "        optimizer_eve.step()\n",
        "    \n",
        "    #print('bob error: {} eve error: {}'.format(alice_bob_error.data, eve_error.data))\n",
        "      bob_errors.append(alice_bob_error.data)\n",
        "     \n",
        "      eve_errors.append(eve_error.data)\n",
        "      alice_bob_los.append(alice_bob_loss.data)\n",
        "      checkpoint={'alice_bob':Network(),\n",
        "                'state_dict': alice_bob.state_dict(),\n",
        "                'optimizer': optimizer_alice_bob.state_dict()\n",
        "                }\n",
        "      torch.save(checkpoint,'checkpoint1.pth')\n",
        "      checkpoint1={'eve': Network2(),\n",
        "                'state_dict1': eve.state_dict(),\n",
        "                'optimizer1': optimizer_eve.state_dict()\n",
        "                }\n",
        "      torch.save(checkpoint1,'checkpoint11.pth')\n",
        "  \n",
        "   plot_errors(eve_errors,alice_bob_los)"
      ],
      "execution_count": 54,
      "outputs": []
    },
    {
      "cell_type": "code",
      "metadata": {
        "id": "u-DwgTf_r6tY",
        "colab_type": "code",
        "colab": {}
      },
      "source": [
        "train()"
      ],
      "execution_count": null,
      "outputs": []
    },
    {
      "cell_type": "code",
      "metadata": {
        "id": "QnMtEXXMsD04",
        "colab_type": "code",
        "colab": {
          "base_uri": "https://localhost:8080/",
          "height": 313
        },
        "outputId": "4765c589-b193-4b9d-e07f-0fde87bc1d6a"
      },
      "source": [
        "import sys\n",
        "def train():\n",
        "  torch.manual_seed(10)\n",
        "  alice_bob_one_bit_wrong_mean = 0.0\n",
        "  eve_one_bit_wrong_mean =0.0\n",
        "  #alice_bob = Network()\n",
        "  alice_bob_wrong_for_plot = []\n",
        "  eve_wrong_for_plot       = []\n",
        "  alice_bob = Network()\n",
        "  eve = Network2()\n",
        "\n",
        "  alice_bob.train()\n",
        "  eve.train()\n",
        "\n",
        "  optimizer_alice_bob = optim.Adam(alice_bob.parameters(), lr=LEARNING_RATE)\n",
        "  optimizer_eve = optim.Adam(eve.parameters(), lr=LEARNING_RATE)\n",
        "\n",
        "\n",
        "  alice_bob_reconstruction_error = nn.L1Loss()\n",
        "  eve_reconstruction_error = nn.L1Loss()\n",
        "\n",
        "  \n",
        "  for i in range(60):\n",
        "\n",
        "    for k in range(128):\n",
        "        start_time = time.time()\n",
        "        for network,num_minibatch in {'alice_bob': 5, 'eve': 10}.items():\n",
        "\n",
        "          for minibatch in range(num_minibatch):\n",
        "            np.random.seed(1)\n",
        "            data = gen_data(BATCH_SIZE, MSG_TEXT, KEY_TEXT)\n",
        "            msg = torch.tensor(data[0], dtype=torch.float)\n",
        "            key = torch.tensor(data[1], dtype=torch.float)\n",
        "            alice_input = torch.cat((msg, key), 1)\n",
        "            with torch.no_grad():\n",
        "              ctext= alice_bob(alice_input)\n",
        "\n",
        "              #print(ptext_eve)\n",
        "            ptext_eve = eve(ctext)\n",
        "\n",
        "            if network == 'alice_bob':\n",
        "              bob_input = torch.cat((ctext, key), 1)\n",
        "              ptext_bob = alice_bob(bob_input)\n",
        "\n",
        "\n",
        "          #print(ptext_bob)\n",
        "\n",
        "              alice_bob_error=alice_bob_reconstruction_error(ptext_bob,msg)\n",
        "              eve_error =eve_reconstruction_error(ptext_eve,msg)\n",
        "              #print(eve_error)\n",
        "              optimizer_alice_bob.zero_grad()\n",
        "              alice_bob_loss=alice_bob_error -  5*min(eve_error.item(),0.5)\n",
        "              #print(alice_bob_loss)\n",
        "\n",
        "\n",
        "\n",
        "            #optimizer_alice.zero_grad()\n",
        "              alice_bob_loss.backward()\n",
        "              #nn.utils.clip_grad_value_(alice_bob.parameters(), CLIP_VALUE)\n",
        "            #\n",
        "\n",
        "\n",
        "            #optimizer_alice.step()\n",
        "              optimizer_alice_bob.step()\n",
        "                \n",
        "            elif network == 'eve':\n",
        "              optimizer_eve.zero_grad()\n",
        "              eve_error =eve_reconstruction_error(ptext_eve,msg)\n",
        "              #print(eve_error)\n",
        "              eve_error.backward()\n",
        "              #nn.utils.clip_grad_value_(eve.parameters(), CLIP_VALUE)\n",
        "              optimizer_eve.step()\n",
        "\n",
        "\n",
        "\n",
        "        time_elapsed = time.time() - start_time\n",
        "\n",
        "        bob_one_bit_wrong_mean = alice_bob_loss.cpu().detach().numpy()\n",
        "        bob_one = alice_bob_error.cpu().detach().numpy()\n",
        "        eve_one_bit_wrong_mean = eve_error.cpu().detach().numpy()\n",
        "\n",
        "\n",
        "        if i % LOOPS_PER_PRINT == 0:\n",
        "          '''print(f'Epoch: {i + 1:06d} | '\n",
        "                f'one epoch time: {time_elapsed:.3f} | '\n",
        "                f'bob one bit wrong: {bob_one_bit_wrong_mean:.4f} |'\n",
        "                f'eve one bit wrong: {eve_one_bit_wrong_mean:.4f}')'''\n",
        "          print(\"\\rEpoch {:3}: {:3}% | abe: {:2.3f} | eve: {:2.3f} | bob: {:2.3f}\".format(\n",
        "                i, 100 * k // 128, bob_one_bit_wrong_mean, eve_one_bit_wrong_mean, bob_one), end=\"\")\n",
        "          sys.stdout.flush()\n",
        "        alice_bob_wrong_for_plot.append(bob_one_bit_wrong_mean)\n",
        "        eve_wrong_for_plot.append(eve_one_bit_wrong_mean)\n",
        "\n",
        "  plot_wrong(alice_bob_wrong_for_plot,eve_wrong_for_plot)\n",
        "  \n",
        "  checkpoint={'alice_bob':Network(),\n",
        "                'state_dict': alice_bob.state_dict(),\n",
        "                'optimizer': optimizer_alice_bob.state_dict()\n",
        "                }\n",
        "  torch.save(checkpoint,'checkpoint1.pth')\n",
        "  checkpoint1={'eve': Network2(),\n",
        "                'state_dict1': eve.state_dict(),\n",
        "                'optimizer1': optimizer_eve.state_dict()\n",
        "                }\n",
        "  torch.save(checkpoint1,'checkpoint11.pth')\n",
        "\n",
        "\n",
        "\n",
        "\n",
        "if __name__ == \"__main__\":\n",
        "\n",
        "    train()\n",
        "\n",
        "\n",
        "\n"
      ],
      "execution_count": 56,
      "outputs": [
        {
          "output_type": "stream",
          "text": [
            "Epoch   0:  99% | abe: -1.637 | eve: 0.407 | bob: 0.401"
          ],
          "name": "stdout"
        },
        {
          "output_type": "display_data",
          "data": {
            "image/png": "[encoded data removed]",
            "text/plain": [
              "<Figure size 432x288 with 1 Axes>"
            ]
          },
          "metadata": {
            "tags": []
          }
        }
      ]
    },
    {
      "cell_type": "code",
      "metadata": {
        "id": "8R2vI6vgsIsF",
        "colab_type": "code",
        "colab": {}
      },
      "source": [
        "def load_checkpoint(filepath):\n",
        "    checkpoint = torch.load(filepath)\n",
        "    model = checkpoint['alice_bob']\n",
        "    model.load_state_dict(checkpoint['state_dict'])\n",
        "    for parameter in model.parameters():\n",
        "        parameter.requires_grad = False\n",
        "\n",
        "    model.eval()\n",
        "    return model"
      ],
      "execution_count": 62,
      "outputs": []
    },
    {
      "cell_type": "code",
      "metadata": {
        "id": "fA7cgVcHsMi8",
        "colab_type": "code",
        "colab": {}
      },
      "source": [
        "def load_checkpoint1(filepath):\n",
        "    checkpoint = torch.load(filepath)\n",
        "    model = checkpoint['eve']\n",
        "    model.load_state_dict(checkpoint['state_dict1'])\n",
        "    for parameter in model.parameters():\n",
        "        parameter.requires_grad = False\n",
        "\n",
        "    model.eval()\n",
        "    return model"
      ],
      "execution_count": 63,
      "outputs": []
    },
    {
      "cell_type": "code",
      "metadata": {
        "id": "Lt6B0y2WsRhn",
        "colab_type": "code",
        "colab": {
          "base_uri": "https://localhost:8080/",
          "height": 199
        },
        "outputId": "5ca49a6c-5bdd-4332-8d11-8e1bfb326d56"
      },
      "source": [
        "\n",
        "def validate():\n",
        "    \"\"\"\n",
        "    generate a ptext and key and compare them to the output of the model\n",
        "    :return:\n",
        "    \"\"\"\n",
        "    fail=0\n",
        "    count=0\n",
        "    for i in range(1):\n",
        "\n",
        "      data = gen_data(BATCH_SIZE, MSG_TEXT, KEY_TEXT)\n",
        "      msg = torch.tensor(data[0], dtype=torch.float)\n",
        "      key = torch.tensor(data[1], dtype=torch.float)\n",
        "\n",
        "      #alice_bob= model_load_checkpoint()\n",
        "      alice_bob = load_checkpoint('/content/checkpoint1.pth')\n",
        "      eve = load_checkpoint1('/content/checkpoint11.pth')\n",
        "      alice_bob.l1.weight=torch.nn.Parameter(alice_bob.l1.weight.round()) #Not rounded off\n",
        "      eve.l1.weight=torch.nn.Parameter(eve.l1.weight.round()) #Not rounded off\n",
        "      with torch.no_grad():\n",
        "        ctext = alice_bob(torch.cat((msg, key), 1))\n",
        "\n",
        "      with torch.no_grad():\n",
        "        predict_ptext_bob = alice_bob(torch.cat((ctext, key), 1))\n",
        "        predict_ptext_eve = eve(ctext)\n",
        "    \n",
        "\n",
        "      # for better print\n",
        "      ptext = msg.cpu().detach().numpy()\n",
        "      key = key.cpu().detach().numpy()\n",
        "      predict_ptext_bob = predict_ptext_bob.cpu().detach().numpy()\n",
        "      predict_ptext_eve = predict_ptext_eve.cpu().detach().numpy()\n",
        "\n",
        "      print('ciphetext:\\n{}\\n\\n Real ptext:\\n{}\\n\\nptext  key:\\n{}\\n\\nkey'.format(ctext[0],ptext[0],key[0]))\n",
        "    #print(count,fail) \n",
        "\n",
        "    \n",
        "\n",
        "if __name__ == '__main__':\n",
        "    validate()"
      ],
      "execution_count": 65,
      "outputs": [
        {
          "output_type": "stream",
          "text": [
            "ciphetext:\n",
            "tensor([1., 1., 0., 1.])\n",
            "\n",
            " Real ptext:\n",
            "[1. 1. 1. 0.]\n",
            "\n",
            "ptext  key:\n",
            "[1. 1. 1. 0.]\n",
            "\n",
            "key\n"
          ],
          "name": "stdout"
        }
      ]
    },
    {
      "cell_type": "code",
      "metadata": {
        "id": "-drv30A-tLK2",
        "colab_type": "code",
        "colab": {
          "base_uri": "https://localhost:8080/",
          "height": 254
        },
        "outputId": "65c90206-b162-491b-cb6e-401768287b91"
      },
      "source": [
        "Image(\"/content/drive/My Drive/On-perfect-secure/Capture9.PNG\")"
      ],
      "execution_count": 68,
      "outputs": [
        {
          "output_type": "execute_result",
          "data": {
            "image/png": "[encoded data removed]",
            "text/plain": [
              "<IPython.core.display.Image object>"
            ]
          },
          "metadata": {
            "tags": []
          },
          "execution_count": 68
        }
      ]
    },
    {
      "cell_type": "markdown",
      "metadata": {
        "id": "4sSn9SIGtySB",
        "colab_type": "text"
      },
      "source": [
        " All process was successful in some case without\n",
        "any error only Alice and bob can communicate clearly. But\n",
        "the cryptosystem is not secure."
      ]
    },
    {
      "cell_type": "markdown",
      "metadata": {
        "id": "KtsXDH_ouav2",
        "colab_type": "text"
      },
      "source": [
        "# Next Step "
      ]
    },
    {
      "cell_type": "code",
      "metadata": {
        "id": "wMPENfPwtPMh",
        "colab_type": "code",
        "colab": {
          "base_uri": "https://localhost:8080/",
          "height": 378
        },
        "outputId": "f2a8d932-fd89-4f1c-be38-c8c370a0b035"
      },
      "source": [
        "Image(\"/content/drive/My Drive/On-perfect-secure/Capture8.PNG\")"
      ],
      "execution_count": 61,
      "outputs": [
        {
          "output_type": "execute_result",
          "data": {
            "image/png": "[encoded data removed]",
            "text/plain": [
              "<IPython.core.display.Image object>"
            ]
          },
          "metadata": {
            "tags": []
          },
          "execution_count": 61
        }
      ]
    },
    {
      "cell_type": "markdown",
      "metadata": {
        "id": "5eL-htmevVo9",
        "colab_type": "text"
      },
      "source": [
        "And it would be interesting if we can\n",
        " prove the security of the cryptosystem to ensure the security with the model CCA-ANC(Chosen Ciphertext Attacks-Adversarial Neural Cryptography)."
      ]
    },
    {
      "cell_type": "code",
      "metadata": {
        "id": "X-faHcJ8tanB",
        "colab_type": "code",
        "colab": {}
      },
      "source": [
        ""
      ],
      "execution_count": null,
      "outputs": []
    }
  ]
}