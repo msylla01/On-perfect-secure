{
 "cells": [
  {
   "cell_type": "code",
   "execution_count": null,
   "metadata": {},
   "outputs": [],
   "source": []
  },
  {
   "cell_type": "code",
   "execution_count": null,
   "metadata": {},
   "outputs": [],
   "source": []
  },
  {
   "cell_type": "markdown",
   "metadata": {
    "ExecuteTime": {
     "end_time": "2020-01-19T16:21:38.455968Z",
     "start_time": "2020-01-19T16:21:38.447852Z"
    }
   },
   "source": [
    "# Define All the Parameters Used in the Model"
   ]
  },
  {
   "cell_type": "code",
   "execution_count": 126,
   "metadata": {
    "ExecuteTime": {
     "end_time": "2020-01-20T23:50:35.686931Z",
     "start_time": "2020-01-20T23:50:35.676578Z"
    }
   },
   "outputs": [],
   "source": [
    "KEY_TEXT=4\n",
    "MSG_TEXT=4\n",
    "CHI_TEXT=4\n",
    "LEARNING_RATE=0.0002\n",
    "BATCH_SIZE=4096*5\n",
    "NUM_BATCH_SIZE=128\n",
    "MAX_INTERATION = 1000\n",
    "LOOPS_PER_PRINT=100\n",
    "EPOCHS=20"
   ]
  },
  {
   "cell_type": "markdown",
   "metadata": {},
   "source": [
    "# ALL PACKAGE USED IN MODEL"
   ]
  },
  {
   "cell_type": "code",
   "execution_count": 127,
   "metadata": {
    "ExecuteTime": {
     "end_time": "2020-01-20T23:50:36.208076Z",
     "start_time": "2020-01-20T23:50:36.199612Z"
    }
   },
   "outputs": [],
   "source": [
    "import torch \n",
    "import torch.nn as nn\n",
    "import torch.optim as optim\n",
    "import matplotlib.pyplot as plt\n",
    "import time"
   ]
  },
  {
   "cell_type": "markdown",
   "metadata": {},
   "source": [
    "# DEFINE THE FUNCTION "
   ]
  },
  {
   "cell_type": "code",
   "execution_count": 128,
   "metadata": {
    "ExecuteTime": {
     "end_time": "2020-01-20T23:50:36.744442Z",
     "start_time": "2020-01-20T23:50:36.740797Z"
    }
   },
   "outputs": [],
   "source": [
    "def function(x):\n",
    "  return torch.acos((1-2*x))\n",
    "  ''' ''' \n",
    "\n",
    "def inv_function(y):\n",
    "  return (1-torch.cos(y))/2"
   ]
  },
  {
   "cell_type": "markdown",
   "metadata": {
    "ExecuteTime": {
     "end_time": "2020-01-20T14:56:21.687127Z",
     "start_time": "2020-01-20T14:56:21.678019Z"
    }
   },
   "source": [
    "# NETWORK FOR ALICE AND BOB"
   ]
  },
  {
   "cell_type": "code",
   "execution_count": 129,
   "metadata": {
    "ExecuteTime": {
     "end_time": "2020-01-20T23:50:37.296930Z",
     "start_time": "2020-01-20T23:50:37.291818Z"
    }
   },
   "outputs": [],
   "source": [
    "class Network(nn.Module):\n",
    "    def __init__(self):\n",
    "        super(Network,self).__init__()\n",
    "        self.fc_in= MSG_TEXT+KEY_TEXT\n",
    "        self.fc_out = KEY_TEXT\n",
    "        self.L1 = nn.Linear(self.fc_in,self.fc_out,bias=False)\n",
    "        \n",
    "    def forward(self,input):\n",
    "        inputs=function(input)\n",
    "        out = self.L1(inputs)\n",
    "        _out = inv_function(out)\n",
    "        return _out\n",
    "        \n",
    "    "
   ]
  },
  {
   "cell_type": "markdown",
   "metadata": {},
   "source": [
    "# GENERATE THE DATA "
   ]
  },
  {
   "cell_type": "code",
   "execution_count": 130,
   "metadata": {
    "ExecuteTime": {
     "end_time": "2020-01-20T23:50:37.992672Z",
     "start_time": "2020-01-20T23:50:37.989070Z"
    }
   },
   "outputs": [],
   "source": [
    "def generate_data(batch_size, ptext_size, key_size):\n",
    "    ptext = torch.randint(0, 2, (batch_size, ptext_size), dtype=torch.float) * 1\n",
    "    key = torch.randint(0, 2, (batch_size, key_size), dtype=torch.float) * 1\n",
    "    return ptext, key"
   ]
  },
  {
   "cell_type": "code",
   "execution_count": 131,
   "metadata": {
    "ExecuteTime": {
     "end_time": "2020-01-20T23:50:38.179172Z",
     "start_time": "2020-01-20T23:50:38.175622Z"
    }
   },
   "outputs": [],
   "source": [
    "def gen_data(n=BATCH_SIZE, msg_len=MSG_TEXT, key_len=KEY_TEXT):\n",
    "    return (np.random.randint(0, 2, size=(n, msg_len)) * 1), \\\n",
    "           (np.random.randint(0, 2, size=(n, key_len)) * 1)"
   ]
  },
  {
   "cell_type": "code",
   "execution_count": 132,
   "metadata": {
    "ExecuteTime": {
     "end_time": "2020-01-20T23:50:38.649049Z",
     "start_time": "2020-01-20T23:50:38.644155Z"
    }
   },
   "outputs": [],
   "source": [
    "ptext,key=generate_data(BATCH_SIZE,MSG_TEXT,KEY_TEXT)"
   ]
  },
  {
   "cell_type": "code",
   "execution_count": 133,
   "metadata": {
    "ExecuteTime": {
     "end_time": "2020-01-20T23:50:38.712053Z",
     "start_time": "2020-01-20T23:50:38.688600Z"
    }
   },
   "outputs": [],
   "source": [
    "def plot_wrong( alice_bob_wrong_for_plot):\n",
    "    \"\"\"\n",
    "    plot epoch-wrong picture\n",
    "    \n",
    "    :param alice_bob_wrong_for_plot: a list, element is the mean of bob one bit wrong\n",
    "    :return:\n",
    "    \"\"\"\n",
    "    plt.plot(range(1, len(alice_bob_wrong_for_plot)+1), alice_bob_wrong_for_plot, label='Alice and Bob')\n",
    "    plt.xlabel(\"Step\")\n",
    "    plt.ylabel(\"Decryption AliceAnd Bob\")\n",
    "    plt.title(\"optimizer_alice_bob_times\")\n",
    "    plt.legend()\n",
    "    plt.show()"
   ]
  },
  {
   "cell_type": "code",
   "execution_count": null,
   "metadata": {
    "ExecuteTime": {
     "end_time": "2020-01-20T16:12:07.555004Z",
     "start_time": "2020-01-20T16:12:07.549225Z"
    }
   },
   "outputs": [],
   "source": [
    "\n"
   ]
  },
  {
   "cell_type": "code",
   "execution_count": null,
   "metadata": {
    "ExecuteTime": {
     "end_time": "2020-01-20T16:11:43.667340Z",
     "start_time": "2020-01-20T16:11:43.652558Z"
    }
   },
   "outputs": [],
   "source": []
  },
  {
   "cell_type": "code",
   "execution_count": null,
   "metadata": {},
   "outputs": [],
   "source": []
  },
  {
   "cell_type": "code",
   "execution_count": 157,
   "metadata": {
    "ExecuteTime": {
     "end_time": "2020-01-21T00:26:47.311878Z",
     "start_time": "2020-01-21T00:23:25.486833Z"
    }
   },
   "outputs": [
    {
     "name": "stdout",
     "output_type": "stream",
     "text": [
      "Epoch: 000001 | bob one bit wrong: 0.4848 |\n",
      "Epoch: 000101 | bob one bit wrong: 0.3938 |\n",
      "Epoch: 000201 | bob one bit wrong: 0.3045 |\n",
      "Epoch: 000301 | bob one bit wrong: 0.2823 |\n",
      "Epoch: 000401 | bob one bit wrong: 0.2890 |\n",
      "Epoch: 000501 | bob one bit wrong: 0.3063 |\n",
      "Epoch: 000601 | bob one bit wrong: 0.3157 |\n",
      "Epoch: 000701 | bob one bit wrong: 0.3193 |\n",
      "Epoch: 000801 | bob one bit wrong: 0.2959 |\n",
      "Epoch: 000901 | bob one bit wrong: 0.2549 |\n",
      "Epoch: 001001 | bob one bit wrong: 0.2108 |\n",
      "Epoch: 001101 | bob one bit wrong: 0.2007 |\n",
      "Epoch: 001201 | bob one bit wrong: 0.2103 |\n",
      "Epoch: 001301 | bob one bit wrong: 0.2790 |\n",
      "Epoch: 001401 | bob one bit wrong: 0.3810 |\n",
      "Epoch: 001501 | bob one bit wrong: 0.4360 |\n",
      "Epoch: 001601 | bob one bit wrong: 0.3814 |\n",
      "Epoch: 001701 | bob one bit wrong: 0.3059 |\n",
      "Epoch: 001801 | bob one bit wrong: 0.2499 |\n",
      "Epoch: 001901 | bob one bit wrong: 0.2041 |\n"
     ]
    },
    {
     "data": {
      "image/png": "[encoded data removed]",
      "text/plain": [
       "<Figure size 432x288 with 1 Axes>"
      ]
     },
     "metadata": {
      "needs_background": "light"
     },
     "output_type": "display_data"
    }
   ],
   "source": [
    "def train():\n",
    "    alice_bob_decrypt=0.0\n",
    "    alice_bob_decryp_plot=[]\n",
    "    alice_bob=Network()\n",
    "    alice_bob.train()\n",
    "    optimizer_alice_bob=optim.Adam(alice_bob.parameters(),lr=LEARNING_RATE)\n",
    "    alice_bob_loss_funtion=nn.L1Loss()\n",
    "    for i in range(2000):\n",
    "        \n",
    "        for minibatch in range(5):\n",
    "            #np.random.seed(1)\n",
    "            data = gen_data(BATCH_SIZE, MSG_TEXT, KEY_TEXT)\n",
    "            msg = torch.tensor(data[0], dtype=torch.float)\n",
    "            key = torch.tensor(data[1], dtype=torch.float)\n",
    "            alice_input = torch.cat((msg, key), 1)\n",
    "\n",
    "            with torch.no_grad():\n",
    "                ctext=alice_bob(alice_input)\n",
    "\n",
    "            bob_input = torch.cat((ctext,key),1)\n",
    "            ptext_bob= alice_bob(bob_input)\n",
    "                #print(ptext_bob)\n",
    "            alice_bob_error=alice_bob_loss_funtion(ptext_bob,msg)\n",
    "                    #print(alice_bob_error)\n",
    "            optimizer_alice_bob.zero_grad()\n",
    "            alice_bob_error.backward()\n",
    "            optimizer_alice_bob.step()\n",
    "            alice_bob_decrypt = alice_bob_error.cpu().detach().numpy()\n",
    "            checkpoint={'alice_bob':Network(),\n",
    "                        'state_dict': alice_bob.state_dict(),\n",
    "                        'optimizer': optimizer_alice_bob.state_dict()\n",
    "                        }\n",
    "            torch.save(checkpoint,'checkpoint8.pth')\n",
    "\n",
    "        if i % LOOPS_PER_PRINT == 0:\n",
    "            print(f'Epoch: {i + 1:06d} | '\n",
    "            f'bob one bit wrong: {alice_bob_decrypt:.4f} |')\n",
    "        alice_bob_decryp_plot.append(alice_bob_decrypt)\n",
    "    plot_wrong(alice_bob_decryp_plot)\n",
    "if __name__ == \"__main__\":\n",
    "    train()\n",
    "    "
   ]
  },
  {
   "cell_type": "code",
   "execution_count": 158,
   "metadata": {
    "ExecuteTime": {
     "end_time": "2020-01-21T10:38:51.932328Z",
     "start_time": "2020-01-21T10:38:51.926044Z"
    }
   },
   "outputs": [],
   "source": [
    "def load_checkpoint(filepath):\n",
    "    checkpoint = torch.load(filepath)\n",
    "    model = checkpoint['alice_bob']\n",
    "    model.load_state_dict(checkpoint['state_dict'])\n",
    "    for parameter in model.parameters():\n",
    "        parameter.requires_grad = False\n",
    "\n",
    "    model.eval()\n",
    "    return model\n"
   ]
  },
  {
   "cell_type": "code",
   "execution_count": null,
   "metadata": {},
   "outputs": [],
   "source": []
  },
  {
   "cell_type": "code",
   "execution_count": 160,
   "metadata": {
    "ExecuteTime": {
     "end_time": "2020-01-21T10:39:37.119946Z",
     "start_time": "2020-01-21T10:39:36.997776Z"
    }
   },
   "outputs": [
    {
     "name": "stdout",
     "output_type": "stream",
     "text": [
      "ciphetext:\n",
      "tensor([1., 0., 0., 0.])\n",
      "\n",
      " Real ptext:\n",
      "[0. 0. 1. 0.]\n",
      "\n",
      "ptext bob:\n",
      "[0. 0. 1. 0.]\n",
      "\n",
      "ptext \n",
      "ciphetext:\n",
      "tensor([0., 0., 0., 0.])\n",
      "\n",
      " Real ptext:\n",
      "[0. 0. 0. 0.]\n",
      "\n",
      "ptext bob:\n",
      "[0. 0. 0. 0.]\n",
      "\n",
      "ptext \n",
      "ciphetext:\n",
      "tensor([0., 0., 0., 1.])\n",
      "\n",
      " Real ptext:\n",
      "[0. 0. 1. 0.]\n",
      "\n",
      "ptext bob:\n",
      "[0. 0. 1. 0.]\n",
      "\n",
      "ptext \n",
      "ciphetext:\n",
      "tensor([1., 0., 1., 0.])\n",
      "\n",
      " Real ptext:\n",
      "[1. 0. 1. 0.]\n",
      "\n",
      "ptext bob:\n",
      "[1. 0. 1. 0.]\n",
      "\n",
      "ptext \n",
      "ciphetext:\n",
      "tensor([0., 1., 0., 1.])\n",
      "\n",
      " Real ptext:\n",
      "[1. 1. 1. 1.]\n",
      "\n",
      "ptext bob:\n",
      "[1. 1. 1. 1.]\n",
      "\n",
      "ptext \n",
      "ciphetext:\n",
      "tensor([1., 1., 0., 0.])\n",
      "\n",
      " Real ptext:\n",
      "[1. 1. 1. 1.]\n",
      "\n",
      "ptext bob:\n",
      "[1. 1. 1. 1.]\n",
      "\n",
      "ptext \n",
      "ciphetext:\n",
      "tensor([0., 1., 1., 1.])\n",
      "\n",
      " Real ptext:\n",
      "[0. 1. 1. 1.]\n",
      "\n",
      "ptext bob:\n",
      "[0. 1. 1. 1.]\n",
      "\n",
      "ptext \n",
      "ciphetext:\n",
      "tensor([1., 0., 1., 1.])\n",
      "\n",
      " Real ptext:\n",
      "[1. 0. 0. 0.]\n",
      "\n",
      "ptext bob:\n",
      "[1. 0. 0. 0.]\n",
      "\n",
      "ptext \n",
      "ciphetext:\n",
      "tensor([0., 0., 0., 1.])\n",
      "\n",
      " Real ptext:\n",
      "[0. 0. 1. 0.]\n",
      "\n",
      "ptext bob:\n",
      "[0. 0. 1. 0.]\n",
      "\n",
      "ptext \n",
      "ciphetext:\n",
      "tensor([0., 1., 0., 0.])\n",
      "\n",
      " Real ptext:\n",
      "[0. 1. 0. 0.]\n",
      "\n",
      "ptext bob:\n",
      "[0. 1. 0. 0.]\n",
      "\n",
      "ptext \n"
     ]
    }
   ],
   "source": [
    "import numpy as np\n",
    "\n",
    "def validate():\n",
    "    \"\"\"\n",
    "    generate a ptext and key and compare them to the output of the model\n",
    "    :return:\n",
    "    \n",
    "    \"\"\"\n",
    "    fail=0\n",
    "    count=0\n",
    "    for i in range(10):\n",
    "\n",
    "      data = gen_data(BATCH_SIZE, MSG_TEXT, KEY_TEXT)\n",
    "      msg = torch.tensor(data[0], dtype=torch.float)\n",
    "      key = torch.tensor(data[1], dtype=torch.float)\n",
    "\n",
    "      #alice_bob= model_load_checkpoint()\n",
    "      alice_bob = load_checkpoint('checkpoint8.pth')\n",
    "\n",
    "      alice_bob.L1.weight=torch.nn.Parameter(alice_bob.L1.weight.round()) #Not rounded off\n",
    "      with torch.no_grad():\n",
    "        ctext = alice_bob(torch.cat((msg, key), 1))\n",
    "\n",
    "      with torch.no_grad():\n",
    "        predict_ptext_bob = alice_bob(torch.cat((ctext, key), 1))\n",
    "    \n",
    "\n",
    "      # for better print\n",
    "      ptext = msg.cpu().detach().numpy()\n",
    "      predict_ptext_bob = predict_ptext_bob.cpu().detach().numpy()\n",
    "\n",
    "      print('ciphetext:\\n{}\\n\\n Real ptext:\\n{}\\n\\nptext bob:\\n{}\\n\\nptext '.format(ctext[0],ptext[0], predict_ptext_bob[0]))\n",
    "    #print(count,fail)\n",
    "\n",
    "    \n",
    "\n",
    "if __name__ == '__main__':\n",
    "    \n",
    "\n",
    "    validate()"
   ]
  },
  {
   "cell_type": "code",
   "execution_count": null,
   "metadata": {},
   "outputs": [],
   "source": []
  },
  {
   "cell_type": "code",
   "execution_count": null,
   "metadata": {},
   "outputs": [],
   "source": []
  }
 ],
 "metadata": {
  "hide_input": false,
  "kernelspec": {
   "display_name": "Python 3",
   "language": "python",
   "name": "python3"
  },
  "language_info": {
   "codemirror_mode": {
    "name": "ipython",
    "version": 3
   },
   "file_extension": ".py",
   "mimetype": "text/x-python",
   "name": "python",
   "nbconvert_exporter": "python",
   "pygments_lexer": "ipython3",
   "version": "3.7.3"
  },
  "latex_envs": {
   "LaTeX_envs_menu_present": true,
   "autoclose": false,
   "autocomplete": true,
   "bibliofile": "biblio.bib",
   "cite_by": "apalike",
   "current_citInitial": 1,
   "eqLabelWithNumbers": true,
   "eqNumInitial": 1,
   "hotkeys": {
    "equation": "Ctrl-E",
    "itemize": "Ctrl-I"
   },
   "labels_anchors": false,
   "latex_user_defs": false,
   "report_style_numbering": false,
   "user_envs_cfg": false
  },
  "toc": {
   "base_numbering": 1,
   "nav_menu": {},
   "number_sections": true,
   "sideBar": true,
   "skip_h1_title": false,
   "title_cell": "Table of Contents",
   "title_sidebar": "Contents",
   "toc_cell": false,
   "toc_position": {},
   "toc_section_display": true,
   "toc_window_display": false
  },
  "varInspector": {
   "cols": {
    "lenName": 16,
    "lenType": 16,
    "lenVar": 40
   },
   "kernels_config": {
    "python": {
     "delete_cmd_postfix": "",
     "delete_cmd_prefix": "del ",
     "library": "var_list.py",
     "varRefreshCmd": "print(var_dic_list())"
    },
    "r": {
     "delete_cmd_postfix": ") ",
     "delete_cmd_prefix": "rm(",
     "library": "var_list.r",
     "varRefreshCmd": "cat(var_dic_list()) "
    }
   },
   "types_to_exclude": [
    "module",
    "function",
    "builtin_function_or_method",
    "instance",
    "_Feature"
   ],
   "window_display": false
  }
 },
 "nbformat": 4,
 "nbformat_minor": 2
}
