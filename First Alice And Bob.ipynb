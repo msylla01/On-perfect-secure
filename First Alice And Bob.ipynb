{
 "cells": [
  {
   "cell_type": "markdown",
   "metadata": {
    "colab_type": "text",
    "id": "AulXb8adYg8_"
   },
   "source": [
    "# FOR THIS  TEST N=16"
   ]
  },
  {
   "cell_type": "code",
   "execution_count": 0,
   "metadata": {
    "colab": {},
    "colab_type": "code",
    "id": "T7-b1H4KYbEH"
   },
   "outputs": [],
   "source": []
  },
  {
   "cell_type": "markdown",
   "metadata": {
    "colab_type": "text",
    "id": "aWOu6PMOW-K7"
   },
   "source": [
    "# Define The Parameters"
   ]
  },
  {
   "cell_type": "code",
   "execution_count": 13,
   "metadata": {
    "ExecuteTime": {
     "end_time": "2020-01-17T15:05:07.273903Z",
     "start_time": "2020-01-17T15:05:07.262321Z"
    },
    "colab": {},
    "colab_type": "code",
    "id": "v-9aE7ShCPxz"
   },
   "outputs": [],
   "source": [
    "\n",
    "KEY_TEXT=4\n",
    "MSG_TEXT=4\n",
    "C_TEXT=4\n",
    "LEARNING_RATE=0.0002\n",
    "BATCH_SIZE=512\n",
    "m_train=2**(MSG_TEXT)\n",
    "NUM_BATCH_SIZE=128\n",
    "MAX_INTERATION=100000\n",
    "BOB_ONE_BIT_WRONG_THRESH=0.0025\n",
    "CLIP_VALUE = 1\n",
    "LOOPS_PER_PRINT = 100   # every 100 loops print one time\n",
    "#SAVE_PATH=\"/content/sample_data/adversarial_neural_cryptography_model_and_optimizer\"\n",
    "DEVICE = \"cuda:0\" if torch.cuda.is_available() else \"cpu\""
   ]
  },
  {
   "cell_type": "code",
   "execution_count": 308,
   "metadata": {
    "ExecuteTime": {
     "end_time": "2020-01-16T15:32:07.960173Z",
     "start_time": "2020-01-16T15:32:07.954204Z"
    },
    "colab": {
     "base_uri": "https://localhost:8080/",
     "height": 34
    },
    "colab_type": "code",
    "executionInfo": {
     "elapsed": 503,
     "status": "ok",
     "timestamp": 1579030181413,
     "user": {
      "displayName": "Mohamed Sylla",
      "photoUrl": "https://lh3.googleusercontent.com/a-/AAuE7mBKfYHnfASbRKLMoEv9zPmn34chrf6Ht3N0YX3R=s64",
      "userId": "02630255124911373577"
     },
     "user_tz": 0
    },
    "id": "6N_iFotPuX8_",
    "outputId": "8bb83c42-b4da-4de9-b214-e9d2881559ce"
   },
   "outputs": [
    {
     "data": {
      "text/plain": [
       "256.0"
      ]
     },
     "execution_count": 308,
     "metadata": {},
     "output_type": "execute_result"
    }
   ],
   "source": [
    "m_train/256"
   ]
  },
  {
   "cell_type": "markdown",
   "metadata": {
    "colab_type": "text",
    "id": "TG0_y0ZNYooW"
   },
   "source": [
    "# PACKAGE USED IN OUR TEST"
   ]
  },
  {
   "cell_type": "code",
   "execution_count": 2,
   "metadata": {
    "ExecuteTime": {
     "end_time": "2020-01-17T15:02:48.604785Z",
     "start_time": "2020-01-17T15:02:43.281285Z"
    },
    "colab": {},
    "colab_type": "code",
    "id": "NJyvYl5QpfNA"
   },
   "outputs": [],
   "source": [
    "import torch\n",
    "import numpy as np\n",
    "import torch.nn as nn\n",
    "import torch.optim as optim\n",
    "\n",
    "import matplotlib.pyplot as plt\n",
    "import time"
   ]
  },
  {
   "cell_type": "markdown",
   "metadata": {
    "colab_type": "text",
    "id": "MRRVAwmKcONL"
   },
   "source": [
    "# We define the function we want to use to transforme "
   ]
  },
  {
   "cell_type": "code",
   "execution_count": 4,
   "metadata": {
    "ExecuteTime": {
     "end_time": "2020-01-17T15:02:55.095125Z",
     "start_time": "2020-01-17T15:02:55.087548Z"
    },
    "colab": {},
    "colab_type": "code",
    "id": "5SnH4AFZcZAF"
   },
   "outputs": [],
   "source": [
    "def function(x):\n",
    "  return torch.acos((1-2*x))\n",
    "  ''' ''' \n",
    "\n",
    "def inv_function(y):\n",
    "  return (1-torch.cos(y))/2"
   ]
  },
  {
   "cell_type": "markdown",
   "metadata": {
    "colab_type": "text",
    "id": "BjRqf7MhZaJl"
   },
   "source": [
    "# We define Our Networks for Alice and Bob"
   ]
  },
  {
   "cell_type": "code",
   "execution_count": 5,
   "metadata": {
    "ExecuteTime": {
     "end_time": "2020-01-17T15:02:59.945308Z",
     "start_time": "2020-01-17T15:02:59.939552Z"
    },
    "colab": {},
    "colab_type": "code",
    "id": "HWPbCbBIY4L6"
   },
   "outputs": [],
   "source": [
    "class Network(nn.Module):\n",
    "    '''\n",
    "    Standard Convolutional layers setup used by Alice and Bob.\n",
    "    Input: 2N tensor, PlainText+MessageKey(Alice) or CipherText+Key(Bob)\n",
    "    Output: N tensor, CipherText(Alice) or PlainText(Bob)\n",
    "    '''\n",
    "    def __init__(self):\n",
    "        super(Network,self).__init__()\n",
    "        self.fc_in =MSG_TEXT + KEY_TEXT\n",
    "        self.fc_out = KEY_TEXT\n",
    "        self.l1 = nn.Linear(self.fc_in,self.fc_out,bias=False)\n",
    "\n",
    "    def forward(self,input):\n",
    "\n",
    "        inputs = function(input)\n",
    "        #print(\"inputs:\",inputs)\n",
    "        out = self.l1(inputs) #requires_grad\n",
    "        #print(\"out:\",out.requires_grad)\n",
    "        _out = inv_function(out) #possibly removes requires grad\n",
    "        #print(\"_out:\",_out.requires_grad)\n",
    "        #print(\"out:\",_out)\n",
    "        \n",
    "        output = _out\n",
    "        #print('one pass AB', output.size())\n",
    "        return output\n"
   ]
  },
  {
   "cell_type": "markdown",
   "metadata": {
    "colab_type": "text",
    "id": "fYjBojDfcHLs"
   },
   "source": [
    "# Function to GEnerate DATA and Plot"
   ]
  },
  {
   "cell_type": "code",
   "execution_count": 6,
   "metadata": {
    "ExecuteTime": {
     "end_time": "2020-01-17T15:03:01.621573Z",
     "start_time": "2020-01-17T15:03:01.616864Z"
    },
    "colab": {},
    "colab_type": "code",
    "id": "z492Tw1na2dZ"
   },
   "outputs": [],
   "source": [
    "def generate_data(batch_size, ptext_size, key_size):\n",
    "    \"\"\"\n",
    "    generate data.\n",
    "    :param batch_size: batch size, hyper-parameters, in this program BATCH_SIZE is 256\n",
    "    :param ptext_size: ptext size, hyper-parameters, in this program PTEXT_SIZE is 16\n",
    "    :param key_size: key's size, hyper-parameters, in this program KEY_SIZE is 16\n",
    "    :return: ptext and key, in this program size are both [256, 16]\n",
    "    \"\"\"\n",
    "    ptext = torch.randint(0, 2, (batch_size, ptext_size), dtype=torch.float) * 1\n",
    "    key = torch.randint(0, 2, (batch_size, key_size), dtype=torch.float) * 1\n",
    "    return ptext, key"
   ]
  },
  {
   "cell_type": "code",
   "execution_count": 7,
   "metadata": {
    "ExecuteTime": {
     "end_time": "2020-01-17T15:03:02.542239Z",
     "start_time": "2020-01-17T15:03:02.537923Z"
    },
    "colab": {},
    "colab_type": "code",
    "id": "kBPlqZ_J2f_m"
   },
   "outputs": [],
   "source": [
    "def gen_data(n=BATCH_SIZE, msg_len=MSG_TEXT, key_len=KEY_TEXT):\n",
    "    return (np.random.randint(0, 2, size=(n, msg_len)) * 1), \\\n",
    "           (np.random.randint(0, 2, size=(n, key_len)) * 1)"
   ]
  },
  {
   "cell_type": "code",
   "execution_count": null,
   "metadata": {
    "colab": {},
    "colab_type": "code",
    "id": "HWYVm7L32vWn"
   },
   "outputs": [],
   "source": []
  },
  {
   "cell_type": "code",
   "execution_count": 314,
   "metadata": {
    "ExecuteTime": {
     "end_time": "2020-01-16T15:32:12.295428Z",
     "start_time": "2020-01-16T15:32:12.291601Z"
    },
    "colab": {},
    "colab_type": "code",
    "id": "2jDVVu4qdD68"
   },
   "outputs": [],
   "source": [
    "msg,key=gen_data(512,16,16)"
   ]
  },
  {
   "cell_type": "code",
   "execution_count": 315,
   "metadata": {
    "ExecuteTime": {
     "end_time": "2020-01-16T15:32:12.475599Z",
     "start_time": "2020-01-16T15:32:12.470721Z"
    },
    "colab": {
     "base_uri": "https://localhost:8080/",
     "height": 34
    },
    "colab_type": "code",
    "executionInfo": {
     "elapsed": 651,
     "status": "ok",
     "timestamp": 1579030184679,
     "user": {
      "displayName": "Mohamed Sylla",
      "photoUrl": "https://lh3.googleusercontent.com/a-/AAuE7mBKfYHnfASbRKLMoEv9zPmn34chrf6Ht3N0YX3R=s64",
      "userId": "02630255124911373577"
     },
     "user_tz": 0
    },
    "id": "T54ZnJlUrt2w",
    "outputId": "eb192a23-5f24-41f5-83d6-671b9121c608"
   },
   "outputs": [
    {
     "data": {
      "text/plain": [
       "array([0, 1, 1, 1, 0, 1, 0, 1, 1, 1, 0, 0, 1, 1, 1, 0])"
      ]
     },
     "execution_count": 315,
     "metadata": {},
     "output_type": "execute_result"
    }
   ],
   "source": [
    "msg[0]"
   ]
  },
  {
   "cell_type": "code",
   "execution_count": 8,
   "metadata": {
    "ExecuteTime": {
     "end_time": "2020-01-17T15:03:07.141276Z",
     "start_time": "2020-01-17T15:03:07.133662Z"
    },
    "colab": {},
    "colab_type": "code",
    "id": "P_R1s_mCdME1"
   },
   "outputs": [],
   "source": [
    "def plot_wrong( alice_bob_wrong_for_plot):\n",
    "    \"\"\"\n",
    "    plot epoch-wrong picture\n",
    "    \n",
    "    :param alice_bob_wrong_for_plot: a list, element is the mean of bob one bit wrong\n",
    "    :return:\n",
    "    \"\"\"\n",
    "    plt.plot(range(1, len(alice_bob_wrong_for_plot)+1), alice_bob_wrong_for_plot, label='Alice and Bob')\n",
    "    plt.xlabel(\"Step\")\n",
    "    plt.ylabel(\"Decryption AliceAnd Bob\")\n",
    "    plt.title(\"optimizer_alice_bob_times\")\n",
    "    plt.legend()\n",
    "    plt.show()"
   ]
  },
  {
   "cell_type": "code",
   "execution_count": 317,
   "metadata": {
    "ExecuteTime": {
     "end_time": "2020-01-16T15:32:13.059821Z",
     "start_time": "2020-01-16T15:32:13.056474Z"
    },
    "colab": {},
    "colab_type": "code",
    "id": "1S0k4tPjxEdr"
   },
   "outputs": [],
   "source": [
    "  #alice = Network()\n",
    "  #bob = Network()\n",
    "  #alice_bob_reconstruction_error = nn.L1Loss()\n",
    "  #optimizer_alice = optim.Adam(alice.parameters(), lr=LEARNING_RATE)\n",
    "  #optimizer_bob = optim.Adam(bob.parameters(), lr=LEARNING_RATE)"
   ]
  },
  {
   "cell_type": "code",
   "execution_count": 318,
   "metadata": {
    "ExecuteTime": {
     "end_time": "2020-01-16T15:32:13.809129Z",
     "start_time": "2020-01-16T15:32:13.806595Z"
    },
    "colab": {},
    "colab_type": "code",
    "id": "CtHOpIa93UP0"
   },
   "outputs": [],
   "source": [
    "#data = gen_data(BATCH_SIZE, MSG_TEXT, KEY_TEXT)\n",
    "#msg = torch.tensor(data[0], dtype=torch.float)\n",
    "#key = torch.tensor(data[1], dtype=torch.float)"
   ]
  },
  {
   "cell_type": "code",
   "execution_count": 319,
   "metadata": {
    "ExecuteTime": {
     "end_time": "2020-01-16T15:32:14.366201Z",
     "start_time": "2020-01-16T15:32:14.363724Z"
    },
    "colab": {},
    "colab_type": "code",
    "id": "1K4yz1I-xRVF"
   },
   "outputs": [],
   "source": [
    "#msg,key=generate_data(512,16,16)\n",
    "#alice_input = torch.cat((msg, key), 1)"
   ]
  },
  {
   "cell_type": "code",
   "execution_count": null,
   "metadata": {
    "colab": {},
    "colab_type": "code",
    "id": "5RzQdECC3Syn"
   },
   "outputs": [],
   "source": []
  },
  {
   "cell_type": "code",
   "execution_count": 320,
   "metadata": {
    "ExecuteTime": {
     "end_time": "2020-01-16T15:32:15.109790Z",
     "start_time": "2020-01-16T15:32:15.106933Z"
    },
    "colab": {},
    "colab_type": "code",
    "id": "anpyWkgCxRR9"
   },
   "outputs": [],
   "source": [
    "#ctext= alice(alice_input)"
   ]
  },
  {
   "cell_type": "code",
   "execution_count": 321,
   "metadata": {
    "ExecuteTime": {
     "end_time": "2020-01-16T15:32:15.622741Z",
     "start_time": "2020-01-16T15:32:15.620262Z"
    },
    "colab": {},
    "colab_type": "code",
    "id": "TIqUr9-WxehZ"
   },
   "outputs": [],
   "source": [
    "#print(ctext)"
   ]
  },
  {
   "cell_type": "code",
   "execution_count": 322,
   "metadata": {
    "ExecuteTime": {
     "end_time": "2020-01-16T15:32:16.061847Z",
     "start_time": "2020-01-16T15:32:15.803406Z"
    },
    "colab": {},
    "colab_type": "code",
    "id": "jRQOjkmbxee-"
   },
   "outputs": [],
   "source": [
    "#bob_input = torch.cat((ctext, key), 1)\n"
   ]
  },
  {
   "cell_type": "code",
   "execution_count": 323,
   "metadata": {
    "ExecuteTime": {
     "end_time": "2020-01-16T15:32:16.126535Z",
     "start_time": "2020-01-16T15:32:16.091548Z"
    },
    "colab": {},
    "colab_type": "code",
    "id": "kZu78Afixebm"
   },
   "outputs": [],
   "source": [
    "#bob_output = bob(bob_input)"
   ]
  },
  {
   "cell_type": "code",
   "execution_count": 324,
   "metadata": {
    "ExecuteTime": {
     "end_time": "2020-01-16T15:32:16.707970Z",
     "start_time": "2020-01-16T15:32:16.704530Z"
    },
    "colab": {},
    "colab_type": "code",
    "id": "imotvWuK4b93"
   },
   "outputs": [],
   "source": [
    "#print(bob_output)"
   ]
  },
  {
   "cell_type": "code",
   "execution_count": 326,
   "metadata": {
    "ExecuteTime": {
     "end_time": "2020-01-16T15:33:14.967272Z",
     "start_time": "2020-01-16T15:32:51.761916Z"
    },
    "colab": {
     "base_uri": "https://localhost:8080/",
     "height": 645
    },
    "colab_type": "code",
    "executionInfo": {
     "elapsed": 13215,
     "status": "ok",
     "timestamp": 1579032670076,
     "user": {
      "displayName": "Mohamed Sylla",
      "photoUrl": "https://lh3.googleusercontent.com/a-/AAuE7mBKfYHnfASbRKLMoEv9zPmn34chrf6Ht3N0YX3R=s64",
      "userId": "02630255124911373577"
     },
     "user_tz": 0
    },
    "id": "1gfR3Nnrdd4E",
    "outputId": "d4ccb049-d475-4449-f0bf-87b5beee3c88"
   },
   "outputs": [
    {
     "name": "stdout",
     "output_type": "stream",
     "text": [
      "Epoch: 000001 | one epoch time: 0.767 | bob one bit wrong: 0.4790 |\n"
     ]
    },
    {
     "data": {
      "image/png": "[encoded data removed]",
      "text/plain": [
       "<Figure size 432x288 with 1 Axes>"
      ]
     },
     "metadata": {
      "needs_background": "light"
     },
     "output_type": "display_data"
    }
   ],
   "source": [
    "def train():\n",
    "\n",
    "  alice_bob_one_bit_wrong_mean = 0.0\n",
    "\n",
    "  alice_bob_wrong_for_plot = []\n",
    "  #torch.manual_seed(10)\n",
    "  alice_bob = Network()\n",
    "  #bob = Network()\n",
    "\n",
    "  alice_bob.train()\n",
    "  #bob.train()\n",
    "\n",
    "  optimizer_alice_bob = optim.Adam(alice_bob.parameters(), lr=LEARNING_RATE)\n",
    "  #optimizer_bob = optim.Adam(bob.parameters(), lr=LEARNING_RATE)\n",
    "\n",
    "\n",
    "  alice_bob_reconstruction_error = nn.L1Loss()\n",
    "\n",
    "  for i in range(60):\n",
    "\n",
    "    start_time = time.time()\n",
    "\n",
    "    '''torch.save({\n",
    "        'Alice_state_dict': alice_bob.state_dict(),\n",
    "        \n",
    "        'optimizer_alice_bob_state_dict': optimizer_alice_bob.state_dict(),\n",
    "         }, SAVE_PATH)'''\n",
    "    checkpoint={'alice_bob':Network(),\n",
    "                'state_dict': alice_bob.state_dict(),\n",
    "                'optimizer': optimizer_alice_bob.state_dict()\n",
    "                }\n",
    "    torch.save(checkpoint,'checkpoint.pth')\n",
    "\n",
    "    #for network,num_minibatch in {'alice_bob': NUM_BATCH_SIZE }.items():\n",
    "\n",
    "    for minibatch in range(128):\n",
    "      #np.random.seed(i)\n",
    "      data = gen_data(BATCH_SIZE, MSG_TEXT, KEY_TEXT)\n",
    "      msg = torch.tensor(data[0], dtype=torch.float)\n",
    "      key = torch.tensor(data[1], dtype=torch.float)\n",
    "      alice_input = torch.cat((msg, key), 1)\n",
    "      with torch.no_grad():\n",
    "        ctext= alice_bob(alice_input)\n",
    "      \n",
    "      bob_input = torch.cat((ctext, key), 1)\n",
    "      ptext_bob = alice_bob(bob_input)\n",
    "      #print(ptext_bob)\n",
    "\n",
    "      alice_bob_error=alice_bob_reconstruction_error(ptext_bob,msg)\n",
    "      #print(alice_bob_error)\n",
    "\n",
    "\n",
    "\n",
    "      #optimizer_alice.zero_grad()\n",
    "      optimizer_alice_bob.zero_grad()\n",
    "      alice_bob_error.backward()\n",
    "      #print(alice_bob_error.grad)\n",
    "      #print(alice_bob_error)\n",
    "      nn.utils.clip_grad_value_(alice_bob.parameters(), CLIP_VALUE)\n",
    "      #nn.utils.clip_grad_value_(bob.parameters(), CLIP_VALUE)\n",
    "\n",
    "\n",
    "      #optimizer_alice.step()\n",
    "      optimizer_alice_bob.step()\n",
    "\n",
    "      time_elapsed = time.time() - start_time\n",
    "\n",
    "    bob_one_bit_wrong_mean = alice_bob_error.cpu().detach().numpy()\n",
    "    \n",
    "\n",
    "\n",
    "    if i % LOOPS_PER_PRINT == 0:\n",
    "      print(f'Epoch: {i + 1:06d} | '\n",
    "            f'one epoch time: {time_elapsed:.3f} | '\n",
    "            f'bob one bit wrong: {bob_one_bit_wrong_mean:.4f} |')\n",
    "    alice_bob_wrong_for_plot.append(bob_one_bit_wrong_mean)\n",
    "\n",
    "  plot_wrong(alice_bob_wrong_for_plot)\n",
    "\n",
    "\n",
    "\n",
    "\n",
    "if __name__ == \"__main__\":\n",
    "if\n",
    "    train()"
   ]
  },
  {
   "cell_type": "code",
   "execution_count": 263,
   "metadata": {
    "ExecuteTime": {
     "end_time": "2020-01-16T15:27:19.455394Z",
     "start_time": "2020-01-16T15:27:19.291027Z"
    },
    "colab": {
     "base_uri": "https://localhost:8080/",
     "height": 54
    },
    "colab_type": "code",
    "executionInfo": {
     "elapsed": 789,
     "status": "ok",
     "timestamp": 1579033109359,
     "user": {
      "displayName": "Mohamed Sylla",
      "photoUrl": "https://lh3.googleusercontent.com/a-/AAuE7mBKfYHnfASbRKLMoEv9zPmn34chrf6Ht3N0YX3R=s64",
      "userId": "02630255124911373577"
     },
     "user_tz": 0
    },
    "id": "0_gU49FYUdXW",
    "outputId": "e1edf2e5-6712-4015-9b6b-6e51ae7e93b7"
   },
   "outputs": [
    {
     "ename": "ModuleNotFoundError",
     "evalue": "No module named 'google.colab'",
     "output_type": "error",
     "traceback": [
      "\u001b[0;31m---------------------------------------------------------------------------\u001b[0m",
      "\u001b[0;31mModuleNotFoundError\u001b[0m                       Traceback (most recent call last)",
      "\u001b[0;32m<ipython-input-263-d5df0069828e>\u001b[0m in \u001b[0;36m<module>\u001b[0;34m\u001b[0m\n\u001b[0;32m----> 1\u001b[0;31m \u001b[0;32mfrom\u001b[0m \u001b[0mgoogle\u001b[0m\u001b[0;34m.\u001b[0m\u001b[0mcolab\u001b[0m \u001b[0;32mimport\u001b[0m \u001b[0mdrive\u001b[0m\u001b[0;34m\u001b[0m\u001b[0;34m\u001b[0m\u001b[0m\n\u001b[0m\u001b[1;32m      2\u001b[0m \u001b[0mdrive\u001b[0m\u001b[0;34m.\u001b[0m\u001b[0mmount\u001b[0m\u001b[0;34m(\u001b[0m\u001b[0;34m'/content/drive'\u001b[0m\u001b[0;34m)\u001b[0m\u001b[0;34m\u001b[0m\u001b[0;34m\u001b[0m\u001b[0m\n",
      "\u001b[0;31mModuleNotFoundError\u001b[0m: No module named 'google.colab'"
     ]
    }
   ],
   "source": [
    "from google.colab import drive\n",
    "drive.mount('/content/drive')"
   ]
  },
  {
   "cell_type": "code",
   "execution_count": 306,
   "metadata": {
    "ExecuteTime": {
     "end_time": "2020-01-16T15:31:32.651591Z",
     "start_time": "2020-01-16T15:31:32.645205Z"
    },
    "colab": {},
    "colab_type": "code",
    "id": "w3t8srRVC9Wl"
   },
   "outputs": [
    {
     "data": {
      "text/plain": [
       "128.0"
      ]
     },
     "execution_count": 306,
     "metadata": {},
     "output_type": "execute_result"
    }
   ],
   "source": [
    "2**16/512\n"
   ]
  },
  {
   "cell_type": "code",
   "execution_count": 10,
   "metadata": {
    "ExecuteTime": {
     "end_time": "2020-01-17T15:04:13.747852Z",
     "start_time": "2020-01-17T15:04:13.738975Z"
    },
    "colab": {},
    "colab_type": "code",
    "id": "Qfv1qknCIMP6"
   },
   "outputs": [],
   "source": [
    "def load_checkpoint(filepath):\n",
    "    checkpoint = torch.load(filepath)\n",
    "    model = checkpoint['alice_bob']\n",
    "    model.load_state_dict(checkpoint['state_dict'])\n",
    "    for parameter in model.parameters():\n",
    "        parameter.requires_grad = False\n",
    "\n",
    "    model.eval()\n",
    "    return model\n",
    "\n",
    "#model = load_checkpoint('/content/checkpoint.pth')"
   ]
  },
  {
   "cell_type": "code",
   "execution_count": 28,
   "metadata": {
    "ExecuteTime": {
     "end_time": "2020-01-17T15:07:05.821289Z",
     "start_time": "2020-01-17T15:07:05.792884Z"
    },
    "colab": {
     "base_uri": "https://localhost:8080/",
     "height": 211
    },
    "colab_type": "code",
    "executionInfo": {
     "elapsed": 591,
     "status": "ok",
     "timestamp": 1579032768527,
     "user": {
      "displayName": "Mohamed Sylla",
      "photoUrl": "https://lh3.googleusercontent.com/a-/AAuE7mBKfYHnfASbRKLMoEv9zPmn34chrf6Ht3N0YX3R=s64",
      "userId": "02630255124911373577"
     },
     "user_tz": 0
    },
    "id": "IxwZafAA65Ij",
    "outputId": "430fca89-a7dd-4f13-8897-45cb165c4cf9"
   },
   "outputs": [
    {
     "name": "stdout",
     "output_type": "stream",
     "text": [
      "ciphetext:\n",
      "tensor([0., 0., 0., 1.])\n",
      "\n",
      " Real ptext:\n",
      "[0. 0. 1. 0.]\n",
      "\n",
      "ptext bob:\n",
      "[0. 0. 1. 0.]\n",
      "\n",
      "ptext \n"
     ]
    }
   ],
   "source": [
    "import numpy as np\n",
    "\n",
    "def validate():\n",
    "    \"\"\"\n",
    "    generate a ptext and key and compare them to the output of the model\n",
    "    :return:\n",
    "    \n",
    "    \"\"\"\n",
    "    fail=0\n",
    "    count=0\n",
    "    for i in range(1):\n",
    "\n",
    "      data = gen_data(BATCH_SIZE, MSG_TEXT, KEY_TEXT)\n",
    "      msg = torch.tensor(data[0], dtype=torch.float)\n",
    "      key = torch.tensor(data[1], dtype=torch.float)\n",
    "\n",
    "      #alice_bob= model_load_checkpoint()\n",
    "      alice_bob = load_checkpoint('checkpointv1.pth')\n",
    "      alice_bob.l1.weight=torch.nn.Parameter(alice_bob.l1.weight.round()) #Not rounded off\n",
    "      with torch.no_grad():\n",
    "        ctext = alice_bob(torch.cat((msg, key), 1))\n",
    "\n",
    "      with torch.no_grad():\n",
    "        predict_ptext_bob = alice_bob(torch.cat((ctext, key), 1))\n",
    "    \n",
    "\n",
    "      # for better print\n",
    "      ptext = msg.cpu().detach().numpy()\n",
    "      predict_ptext_bob = predict_ptext_bob.cpu().detach().numpy()\n",
    "\n",
    "      print('ciphetext:\\n{}\\n\\n Real ptext:\\n{}\\n\\nptext bob:\\n{}\\n\\nptext '.format(ctext[0],ptext[0], predict_ptext_bob[0]))\n",
    "    #print(count,fail)\n",
    "\n",
    "    \n",
    "\n",
    "if __name__ == '__main__':\n",
    "\n",
    "    validate()"
   ]
  },
  {
   "cell_type": "code",
   "execution_count": 153,
   "metadata": {
    "ExecuteTime": {
     "end_time": "2020-01-16T15:14:44.002074Z",
     "start_time": "2020-01-16T15:14:43.984817Z"
    },
    "colab": {
     "base_uri": "https://localhost:8080/",
     "height": 34
    },
    "colab_type": "code",
    "executionInfo": {
     "elapsed": 738,
     "status": "ok",
     "timestamp": 1579032547123,
     "user": {
      "displayName": "Mohamed Sylla",
      "photoUrl": "https://lh3.googleusercontent.com/a-/AAuE7mBKfYHnfASbRKLMoEv9zPmn34chrf6Ht3N0YX3R=s64",
      "userId": "02630255124911373577"
     },
     "user_tz": 0
    },
    "id": "yGYyfNyj_O7j",
    "outputId": "87f3572e-b010-4a1c-9c28-e14b38baa008"
   },
   "outputs": [
    {
     "data": {
      "text/plain": [
       "tensor([1., 0., 1., 1., 1., 0., 1., 1.])"
      ]
     },
     "execution_count": 153,
     "metadata": {},
     "output_type": "execute_result"
    }
   ],
   "source": [
    "m1=torch.tensor([0.,1.,1.,1.])\n",
    "k1=torch.tensor([1.,0.,1.,1.],)\n",
    "m2=torch.tensor([1.,0.,1.,1.])\n",
    "k2=torch.tensor([0.,1.,1.,1.])\n",
    "m3=torch.tensor([1.,1.,0.,1.])\n",
    "k3=torch.tensor([1.,1.,1.,0.])\n",
    "m4=torch.tensor([1.,1.,1.,0.])\n",
    "k4=torch.tensor([1.,1.,0.,1.])\n",
    "torch.cat((m2, k1))"
   ]
  },
  {
   "cell_type": "code",
   "execution_count": 0,
   "metadata": {
    "colab": {},
    "colab_type": "code",
    "id": "s0Ch5AfFNhBa"
   },
   "outputs": [],
   "source": [
    "data = gen_data(BATCH_SIZE, MSG_TEXT, KEY_TEXT)\n",
    "msg = torch.tensor([1.,0.,1.,1.], dtype=torch.float)\n",
    "key = torch.tensor([0.,1.,1.,1.], dtype=torch.float)"
   ]
  },
  {
   "cell_type": "code",
   "execution_count": 35,
   "metadata": {
    "ExecuteTime": {
     "end_time": "2020-01-17T15:16:21.494062Z",
     "start_time": "2020-01-17T15:16:21.479109Z"
    },
    "colab": {
     "base_uri": "https://localhost:8080/",
     "height": 225
    },
    "colab_type": "code",
    "executionInfo": {
     "elapsed": 610,
     "status": "ok",
     "timestamp": 1579025987074,
     "user": {
      "displayName": "Mohamed Sylla",
      "photoUrl": "https://lh3.googleusercontent.com/a-/AAuE7mBKfYHnfASbRKLMoEv9zPmn34chrf6Ht3N0YX3R=s64",
      "userId": "02630255124911373577"
     },
     "user_tz": 0
    },
    "id": "TE8ya8ngKoaP",
    "outputId": "4963528e-a8da-40dd-cd1c-c3e4c30a977b"
   },
   "outputs": [
    {
     "name": "stdout",
     "output_type": "stream",
     "text": [
      "ciphetext:\n",
      "tensor([0., 1., 0., 1.])\n",
      "\n",
      " Real ptext:\n",
      "[0. 1. 1. 0.]\n",
      "\n",
      "ptext bob:\n",
      "[0. 1. 1. 0.]\n",
      "\n",
      "ptext  b:\n",
      "\n",
      "pt \n"
     ]
    }
   ],
   "source": [
    "\n",
    "def validate():\n",
    "    \"\"\"\n",
    "    generate a ptext and key and compare them to the output of the model\n",
    "    :return:\n",
    "    \"\"\"\n",
    "\n",
    "    for i in range(1):\n",
    "\n",
    "      msg = torch.tensor([0.,1.,1.,0.], dtype=torch.float)\n",
    "      key = torch.tensor([0.,1.,1.,1.], dtype=torch.float)\n",
    "\n",
    "      #alice_bob= model_load_checkpoint()\n",
    "      alice_bob = load_checkpoint('checkpointv1.pth')\n",
    "      alice_bob.l1.weight=torch.nn.Parameter(alice_bob.l1.weight.round()) #Not rounded off\n",
    "      with torch.no_grad():\n",
    "        ctext = alice_bob(torch.cat((msg, key), 0))\n",
    "\n",
    "      with torch.no_grad():\n",
    "        predict_ptext_bob = alice_bob(torch.cat((ctext, key), 0))\n",
    "    \n",
    "\n",
    "      # for better print\n",
    "      ptext = msg.cpu().detach().numpy()\n",
    "      predict_ptext_bob = predict_ptext_bob.cpu().detach().numpy()\n",
    "\n",
    "      print('ciphetext:\\n{}\\n\\n Real ptext:\\n{}\\n\\nptext bob:\\n{}\\n\\nptext  b:\\n\\npt '.format(ctext,ptext, predict_ptext_bob))\n",
    "    #print(count,fail)\n",
    "\n",
    "\n",
    "if __name__ == '__main__':\n",
    "\n",
    "    validate()"
   ]
  },
  {
   "cell_type": "code",
   "execution_count": 0,
   "metadata": {
    "colab": {},
    "colab_type": "code",
    "id": "wzN0usMILmR4"
   },
   "outputs": [],
   "source": [
    " n+-"
   ]
  }
 ],
 "metadata": {
  "colab": {
   "authorship_tag": "ABX9TyNmU09xExeONFVLJXvp/D+7",
   "collapsed_sections": [],
   "name": "First1 Alice And Bob.ipynb",
   "provenance": [],
   "toc_visible": true
  },
  "hide_input": false,
  "kernelspec": {
   "display_name": "Python 3",
   "language": "python",
   "name": "python3"
  },
  "language_info": {
   "codemirror_mode": {
    "name": "ipython",
    "version": 3
   },
   "file_extension": ".py",
   "mimetype": "text/x-python",
   "name": "python",
   "nbconvert_exporter": "python",
   "pygments_lexer": "ipython3",
   "version": "3.7.3"
  },
  "latex_envs": {
   "LaTeX_envs_menu_present": true,
   "autoclose": false,
   "autocomplete": true,
   "bibliofile": "biblio.bib",
   "cite_by": "apalike",
   "current_citInitial": 1,
   "eqLabelWithNumbers": true,
   "eqNumInitial": 1,
   "hotkeys": {
    "equation": "Ctrl-E",
    "itemize": "Ctrl-I"
   },
   "labels_anchors": false,
   "latex_user_defs": false,
   "report_style_numbering": false,
   "user_envs_cfg": false
  },
  "toc": {
   "base_numbering": 1,
   "nav_menu": {},
   "number_sections": true,
   "sideBar": true,
   "skip_h1_title": false,
   "title_cell": "Table of Contents",
   "title_sidebar": "Contents",
   "toc_cell": false,
   "toc_position": {},
   "toc_section_display": true,
   "toc_window_display": false
  },
  "varInspector": {
   "cols": {
    "lenName": 16,
    "lenType": 16,
    "lenVar": 40
   },
   "kernels_config": {
    "python": {
     "delete_cmd_postfix": "",
     "delete_cmd_prefix": "del ",
     "library": "var_list.py",
     "varRefreshCmd": "print(var_dic_list())"
    },
    "r": {
     "delete_cmd_postfix": ") ",
     "delete_cmd_prefix": "rm(",
     "library": "var_list.r",
     "varRefreshCmd": "cat(var_dic_list()) "
    }
   },
   "types_to_exclude": [
    "module",
    "function",
    "builtin_function_or_method",
    "instance",
    "_Feature"
   ],
   "window_display": false
  }
 },
 "nbformat": 4,
 "nbformat_minor": 1
}
