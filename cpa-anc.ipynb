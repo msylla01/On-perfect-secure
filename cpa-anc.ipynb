{
 "cells": [
  {
   "cell_type": "code",
   "execution_count": null,
   "metadata": {},
   "outputs": [],
   "source": []
  },
  {
   "cell_type": "code",
   "execution_count": 1,
   "metadata": {
    "ExecuteTime": {
     "end_time": "2020-01-20T23:18:10.370945Z",
     "start_time": "2020-01-20T23:18:10.364141Z"
    }
   },
   "outputs": [],
   "source": [
    "\n",
    "KEY_TEXT=4\n",
    "MSG_TEXT=4\n",
    "C_TEXT=4\n",
    "R_LEN=2*KEY_TEXT\n",
    "LEARNING_RATE=0.1\n",
    "LAMBDA=5\n",
    "BATCH_SIZE=512\n",
    "m_train=2**(MSG_TEXT)\n",
    "NUM_BATCH_SIZE=128\n",
    "MAX_INTERATION=100000\n",
    "EVE_ONE_BIT_WRONG_THRESH = 0.97\n",
    "BOB_ONE_BIT_WRONG_THRESH=0.0025\n",
    "CLIP_VALUE = 1\n",
    "LOOPS_PER_PRINT = 100   # every 100 loops print one time\n",
    "CYCLE_ALICE_BOB=5\n",
    "CYCLE_EVE=10\n"
   ]
  },
  {
   "cell_type": "code",
   "execution_count": 2,
   "metadata": {
    "ExecuteTime": {
     "end_time": "2020-01-20T23:18:17.230853Z",
     "start_time": "2020-01-20T23:18:10.739786Z"
    }
   },
   "outputs": [],
   "source": [
    "import torch\n",
    "import numpy as np\n",
    "import torch.nn as nn\n",
    "import torch.optim as optim\n",
    "import torch.nn.functional as F\n",
    "import seaborn as sns\n",
    "import matplotlib.pyplot as plt\n",
    "import time"
   ]
  },
  {
   "cell_type": "code",
   "execution_count": 3,
   "metadata": {
    "ExecuteTime": {
     "end_time": "2020-01-20T23:18:17.254401Z",
     "start_time": "2020-01-20T23:18:17.249220Z"
    }
   },
   "outputs": [],
   "source": [
    "def function(x):\n",
    "  return torch.acos((1-2*x))\n",
    "  ''' ''' \n",
    "\n",
    "def inv_function(y):\n",
    "    \n",
    "  return (1-torch.cos(y))/2"
   ]
  },
  {
   "cell_type": "code",
   "execution_count": 4,
   "metadata": {
    "ExecuteTime": {
     "end_time": "2020-01-20T23:18:17.313065Z",
     "start_time": "2020-01-20T23:18:17.268137Z"
    }
   },
   "outputs": [],
   "source": [
    "class Network(nn.Module):\n",
    "    '''\n",
    "    Standard Convolutional layers setup used by Alice and Bob.\n",
    "    Input: 2N tensor, PlainText+MessageKey(Alice) or CipherText+Key(Bob)\n",
    "    Output: N tensor, CipherText(Alice) or PlainText(Bob)\n",
    "    '''\n",
    "    def __init__(self):\n",
    "        super(Network,self).__init__()\n",
    "        self.fc_in =MSG_TEXT + KEY_TEXT\n",
    "        self.fc_out = KEY_TEXT\n",
    "        self.l1 = nn.Linear(self.fc_in,self.fc_out,bias=False)\n",
    "\n",
    "    def forward(self,input):\n",
    "\n",
    "        inputs = function(input)\n",
    "        #print(\"inputs:\",inputs)\n",
    "        out = self.l1(inputs) #requires_grad\n",
    "        #print(\"out:\",out.requires_grad)\n",
    "        _out = inv_function(out) #possibly removes requires grad\n",
    "        #print(\"_out:\",_out.requires_grad)\n",
    "        #print(\"out:\",_out)\n",
    "        \n",
    "        output = _out\n",
    "        #print('one pass AB', output.size())\n",
    "        return output\n"
   ]
  },
  {
   "cell_type": "code",
   "execution_count": 5,
   "metadata": {
    "ExecuteTime": {
     "end_time": "2020-01-20T23:18:17.372621Z",
     "start_time": "2020-01-20T23:18:17.327678Z"
    }
   },
   "outputs": [],
   "source": [
    "class Network2(nn.Module):\n",
    "    '''\n",
    "    Standard Convolutional layers setup used by Alice and Bob.\n",
    "    Input: 2N tensor, PlainText+MessageKey(Alice) or CipherText+Key(Bob)\n",
    "    Output: N tensor, CipherText(Alice) or PlainText(Bob)\n",
    "    '''\n",
    "    def __init__(self):\n",
    "        super(Network2,self).__init__()\n",
    "        self.fc_in =MSG_TEXT+MSG_TEXT+C_TEXT\n",
    "        self.fc_out = C_TEXT\n",
    "        self.fc_sec=R_LEN\n",
    "        self.fc_sort = 2\n",
    "        self.l1 = nn.Linear(self.fc_in,self.fc_sec,bias=False)\n",
    "        self.l2 = nn.Linear(self.fc_sec,self.fc_sort,bias=False)\n",
    "\n",
    "    def forward(self,input):\n",
    "\n",
    "        inputs = function(input)\n",
    "        #print(\"inputs:\",inputs)\n",
    "        out = self.l1(inputs) #requires_grad\n",
    "        #print(\"out:\",out.requires_grad\n",
    "        _out = inv_function(out) #possibly removes requires grad\n",
    "        out1 = self.l2(_out)\n",
    "        \n",
    "        x = F.softmax(out1,dim=1)\n",
    "        \n",
    "        #print(\"_out:\",_out.requires_grad)\n",
    "        #print(\"out:\",_out)\n",
    "        \n",
    "        output = x\n",
    "        #print('one pass AB', output.size())\n",
    "        return output\n"
   ]
  },
  {
   "cell_type": "code",
   "execution_count": 6,
   "metadata": {
    "ExecuteTime": {
     "end_time": "2020-01-20T23:18:17.415882Z",
     "start_time": "2020-01-20T23:18:17.392203Z"
    }
   },
   "outputs": [],
   "source": [
    "def generate_data(batch_size, ptext_size, key_size):\n",
    "    \"\"\"\n",
    "    generate data.\n",
    "    :param batch_size: batch size, hyper-parameters, in this program BATCH_SIZE is 256\n",
    "    :param ptext_size: ptext size, hyper-parameters, in this program PTEXT_SIZE is 16\n",
    "    :param key_size: key's size, hyper-parameters, in this program KEY_SIZE is 16\n",
    "    :return: ptext and key, in this program size are both [256, 16]\n",
    "    \"\"\"\n",
    "    ptext = torch.randint(0, 2, (batch_size, ptext_size), dtype=torch.float) * 1\n",
    "    key = torch.randint(0, 2, (batch_size, key_size), dtype=torch.float) * 1\n",
    "    return ptext, key"
   ]
  },
  {
   "cell_type": "code",
   "execution_count": 7,
   "metadata": {
    "ExecuteTime": {
     "end_time": "2020-01-20T23:18:17.472448Z",
     "start_time": "2020-01-20T23:18:17.437288Z"
    }
   },
   "outputs": [],
   "source": [
    "def gen_data(n=BATCH_SIZE, msg_len=MSG_TEXT, key_len=KEY_TEXT):\n",
    "    return (np.random.randint(0, 2, size=(n, msg_len)) * 1), \\\n",
    "           (np.random.randint(0, 2, size=(n, key_len)) * 1), \\\n",
    "           (np.random.randint(0, 2, size=(n, key_len)) * 1)"
   ]
  },
  {
   "cell_type": "code",
   "execution_count": 8,
   "metadata": {
    "ExecuteTime": {
     "end_time": "2020-01-20T23:18:17.912134Z",
     "start_time": "2020-01-20T23:18:17.903443Z"
    }
   },
   "outputs": [],
   "source": [
    "def plot_wrong( alice_bob_wrong_for_plot,eve_wrong_for_plot):\n",
    "    \"\"\"\n",
    "    plot epoch-wrong picture\n",
    "    \n",
    "    :param alice_bob_wrong_for_plot: a list, element is the mean of bob one bit wrong\n",
    "    :return:\n",
    "    \"\"\"\n",
    "    plt.plot(range(1, len(eve_wrong_for_plot)+1), eve_wrong_for_plot, label='eve one bit wrong mean')\n",
    "    plt.plot(range(1, len(alice_bob_wrong_for_plot)+1), alice_bob_wrong_for_plot, label='bob one bit wrong mean')\n",
    "    plt.xlabel(\"Epochs\")\n",
    "    plt.ylabel(\"One Bit Wrong\")\n",
    "    plt.title(\"optimizer_alice_bob_times\")\n",
    "    plt.legend()\n",
    "    plt.show()\n",
    "\n",
    "\n",
    "def plot_errors(eve_errors,alice_bob_loss):\n",
    "  sns.set_style(\"darkgrid\")\n",
    "  #plt.plot(bob_errors)\n",
    "  plt.plot(eve_errors)\n",
    "  plt.plot(alice_bob_loss)\n",
    "  plt.legend(['bob', 'eve','alice bob'])\n",
    "  plt.xlabel('Epoch')\n",
    "  plt.ylabel('Lowest Decryption error achieved')\n",
    "  plt.show()\n"
   ]
  },
  {
   "cell_type": "code",
   "execution_count": 9,
   "metadata": {
    "ExecuteTime": {
     "end_time": "2020-01-20T23:18:20.721072Z",
     "start_time": "2020-01-20T23:18:20.253689Z"
    }
   },
   "outputs": [],
   "source": [
    "alice_bob = Network()\n",
    "eve = Network2()\n",
    "data = gen_data(BATCH_SIZE, MSG_TEXT, KEY_TEXT)\n",
    "msg = torch.tensor(data[0], dtype=torch.float)\n",
    "msg1 = torch.tensor(data[1], dtype=torch.float)\n",
    "key = torch.tensor(data[2], dtype=torch.float)\n",
    "alice_input = torch.cat((msg, key), 1)\n",
    "inputs = torch.cat((msg, msg1), 1)  \n",
    "\n",
    " \n"
   ]
  },
  {
   "cell_type": "code",
   "execution_count": 10,
   "metadata": {
    "ExecuteTime": {
     "end_time": "2020-01-20T23:18:28.011239Z",
     "start_time": "2020-01-20T23:18:27.549579Z"
    }
   },
   "outputs": [],
   "source": [
    "ctext= alice_bob(alice_input)\n",
    "      \n"
   ]
  },
  {
   "cell_type": "code",
   "execution_count": 11,
   "metadata": {
    "ExecuteTime": {
     "end_time": "2020-01-20T23:18:28.918493Z",
     "start_time": "2020-01-20T23:18:28.868522Z"
    }
   },
   "outputs": [
    {
     "data": {
      "text/plain": [
       "tensor([0.0646, 0.0926, 0.0096, 0.0253], grad_fn=<SelectBackward>)"
      ]
     },
     "execution_count": 11,
     "metadata": {},
     "output_type": "execute_result"
    }
   ],
   "source": [
    "ctext[0]"
   ]
  },
  {
   "cell_type": "code",
   "execution_count": 12,
   "metadata": {
    "ExecuteTime": {
     "end_time": "2020-01-20T23:18:38.497382Z",
     "start_time": "2020-01-20T23:18:38.485901Z"
    }
   },
   "outputs": [],
   "source": [
    "bob_input = torch.cat((ctext, key), 1)\n",
    "ptext_bob = alice_bob(bob_input)\n"
   ]
  },
  {
   "cell_type": "code",
   "execution_count": 13,
   "metadata": {
    "ExecuteTime": {
     "end_time": "2020-01-20T23:18:39.383444Z",
     "start_time": "2020-01-20T23:18:39.371107Z"
    }
   },
   "outputs": [
    {
     "data": {
      "text/plain": [
       "tensor([0.0028, 0.0457, 0.0031, 0.1087], grad_fn=<SelectBackward>)"
      ]
     },
     "execution_count": 13,
     "metadata": {},
     "output_type": "execute_result"
    }
   ],
   "source": [
    "ptext_bob[0]"
   ]
  },
  {
   "cell_type": "code",
   "execution_count": 30,
   "metadata": {
    "ExecuteTime": {
     "end_time": "2020-01-20T23:32:23.848477Z",
     "start_time": "2020-01-20T23:32:23.837362Z"
    }
   },
   "outputs": [],
   "source": [
    "eve_input = torch.cat((ctext, inputs), dim=1)\n",
    "ptext_eve= eve(eve_input)"
   ]
  },
  {
   "cell_type": "code",
   "execution_count": 31,
   "metadata": {
    "ExecuteTime": {
     "end_time": "2020-01-20T23:32:24.327770Z",
     "start_time": "2020-01-20T23:32:24.318319Z"
    }
   },
   "outputs": [
    {
     "data": {
      "text/plain": [
       "tensor([0.4989, 0.5011], grad_fn=<SelectBackward>)"
      ]
     },
     "execution_count": 31,
     "metadata": {},
     "output_type": "execute_result"
    }
   ],
   "source": [
    "ptext_eve[0]"
   ]
  },
  {
   "cell_type": "code",
   "execution_count": 29,
   "metadata": {
    "ExecuteTime": {
     "end_time": "2020-01-20T23:32:12.324719Z",
     "start_time": "2020-01-20T23:32:12.304925Z"
    }
   },
   "outputs": [],
   "source": [
    "p1=[]\n",
    "p2=[]\n",
    "pi0=[]\n",
    "pi1=[]\n",
    "for i in range(len(ptext_eve)):\n",
    "    if ptext_eve[i][0]> ptext_eve[i][1]:\n",
    "        p1.append(0)\n",
    "        pi0.append(ptext_eve[i][0])\n",
    "    else:\n",
    "        p2.append(1)\n",
    "        pi1.append(ptext_eve[i][1])\n",
    "#print(pi1)\n",
    "    \n"
   ]
  },
  {
   "cell_type": "code",
   "execution_count": null,
   "metadata": {},
   "outputs": [],
   "source": []
  },
  {
   "cell_type": "code",
   "execution_count": 18,
   "metadata": {
    "ExecuteTime": {
     "end_time": "2020-01-20T23:19:04.030091Z",
     "start_time": "2020-01-20T23:19:04.020832Z"
    }
   },
   "outputs": [],
   "source": [
    "pi0=torch.tensor(pi0).numpy()\n",
    "pi1=torch.tensor(pi1).numpy()\n",
    "#pi=torch.cat((pi0,pi1),dim=1)\n",
    "p1=torch.tensor(p1).numpy()\n",
    "p2=torch.tensor(p2).numpy()\n",
    "#P=p1+p2"
   ]
  },
  {
   "cell_type": "code",
   "execution_count": 19,
   "metadata": {
    "ExecuteTime": {
     "end_time": "2020-01-20T23:19:04.812494Z",
     "start_time": "2020-01-20T23:19:04.804793Z"
    }
   },
   "outputs": [],
   "source": [
    "vect=ptext_eve[:,1]>ptext_eve[:,0]"
   ]
  },
  {
   "cell_type": "code",
   "execution_count": null,
   "metadata": {
    "ExecuteTime": {
     "end_time": "2020-01-20T23:31:07.510693Z",
     "start_time": "2020-01-20T23:31:07.498692Z"
    }
   },
   "outputs": [],
   "source": []
  },
  {
   "cell_type": "code",
   "execution_count": 28,
   "metadata": {
    "ExecuteTime": {
     "end_time": "2020-01-20T23:31:42.772542Z",
     "start_time": "2020-01-20T23:31:42.761914Z"
    }
   },
   "outputs": [],
   "source": [
    "vec= vect.type(torch.ByteTensor)"
   ]
  },
  {
   "cell_type": "code",
   "execution_count": 32,
   "metadata": {
    "ExecuteTime": {
     "end_time": "2020-01-20T23:34:11.652555Z",
     "start_time": "2020-01-20T23:34:11.646040Z"
    }
   },
   "outputs": [
    {
     "data": {
      "text/plain": [
       "tensor(1, dtype=torch.uint8)"
      ]
     },
     "execution_count": 32,
     "metadata": {},
     "output_type": "execute_result"
    }
   ],
   "source": [
    "vec[0]                                                                                                                                                                                                                                                                                                                                                                                                                                                                                                                                                                                                                                                                                                                                                                                                                                                                                                                                                                                                                                                                                                                                                                                                                                                                                                                                                                                                                                                                                                                                                                                                                                                                                                                                                                                                                                                                                                                                                                                                                                                                                                                                                                                                                                                                                                                                                                                                                                                                                                                                                                                                                                                                                                                                                                                                                                                                                                                                                                                                                                                                                                                                                                                                                                                                                                                                                                                                                                                                                                                                                                                                                                                                                                                                                                                                                                                                                                                                                                                                                                                                                                                                                                                                                                                                                                                                                                                                                                                                                                                                                                                                                                                                                                                                                                                                                                                                                                                                                                                                                                                                                                                                                                                                                                                                                                                                                                                                                                                                                                                                                                                                                                                                                                                                                                                                                                                                         /.,m"
   ]
  },
  {
   "cell_type": "code",
   "execution_count": null,
   "metadata": {},
   "outputs": [],
   "source": []
  },
  {
   "cell_type": "code",
   "execution_count": null,
   "metadata": {},
   "outputs": [],
   "source": [
    "def train():\n",
    "\n",
    "  alice_bob_one_bit_wrong_mean = 0.0\n",
    "  \n",
    "\n",
    "  alice_bob_wrong_for_plot = []\n",
    "  eve_wrong_for_plot = []\n",
    "  torch.manual_seed(10)\n",
    "  alice_bob = Network()\n",
    "  eve = Network2()\n",
    "\n",
    "  alice_bob.train()\n",
    "  #bob.train()\n",
    "\n",
    "  optimizer_alice_bob = optim.Adam(alice_bob.parameters(), lr=LEARNING_RATE)\n",
    "  optimizer_eve = optim.Adam(eve.parameters(), lr=LEARNING_RATE)\n",
    "\n",
    "\n",
    "  alice_bob_reconstruction_error = nn.L1Loss()\n",
    "  eve_reconstruction_error = nn.CrossEntropyLoss()\n",
    "\n",
    "  for i in range(30):\n",
    "\n",
    "    start_time = time.time()\n",
    "\n",
    "    '''torch.save({\n",
    "        'Alice_state_dict': alice_bob.state_dict(),\n",
    "        \n",
    "        'optimizer_alice_bob_state_dict': optimizer_alice_bob.state_dict(),\n",
    "         }, SAVE_PATH)'''\n",
    "    checkpoint={'alice_bob':Network(),\n",
    "                'state_dict': alice_bob.state_dict(),\n",
    "                'optimizer': optimizer_alice_bob.state_dict()\n",
    "                }\n",
    "    torch.save(checkpoint,'checkpoint.pth')\n",
    "\n",
    "    #for network,num_minibatch in {'alice_bob': NUM_BATCH_SIZE }.items():\n",
    "\n",
    "    for minibatch in range(128):\n",
    "      np.random.seed(1)\n",
    "      data = gen_data(BATCH_SIZE, MSG_TEXT, KEY_TEXT)\n",
    "      msg = torch.tensor(data[0], dtype=torch.float)\n",
    "      msg1 = torch.tensor(data[1], dtype=torch.float)\n",
    "      key = torch.tensor(data[2], dtype=torch.float)\n",
    "      alice_input = torch.cat((msg, key), 1)\n",
    "      inputs = torch.cat((msg, msg1), 1)  \n",
    "      optimizer_alice_bob.zero_grad()\n",
    "      optimizer_eve.zero_grad()\n",
    "      with torch.no_grad():\n",
    "        ctext= alice_bob(alice_input)\n",
    "      \n",
    "      bob_input = torch.cat((ctext, key), 1)\n",
    "      ptext_bob = alice_bob(bob_input)\n",
    "      eve_input = torch.cat((ctext, inputs), 1)\n",
    "      ptext_eve = eve(eve_input)\n",
    "      \n",
    "      #print(ptext_bob)\n",
    "\n",
    "      alice_bob_error=alice_bob_reconstruction_error(ptext_bob,msg)\n",
    "      eve_error =eve_reconstruction_error(ptext_eve,msg)\n",
    "      alice_bob_loss=alice_bob_error -  5*min(eve_error.item(),0.5)\n",
    "      \n",
    "\n",
    "\n",
    "\n",
    "      \n",
    "      #optimizer_alice_bob.zero_grad()\n",
    "      \n",
    "      alice_bob_loss.backward(retain_graph=True)\n",
    "      \n",
    "      \n",
    "      #print(alice_bob_error.grad)\n",
    "      #print(alice_bob_error)\n",
    "      #nn.utils.clip_grad_value_(alice_bob.parameters(), CLIP_VALUE)\n",
    "      #nn.utils.clip_grad_value_(bob.parameters(), CLIP_VALUE)\n",
    "\n",
    "\n",
    "      #optimizer_alice.step()\n",
    "      optimizer_alice_bob.step()\n",
    "      eve_error.backward()\n",
    "      optimizer_eve.step()\n",
    "        \n",
    "\n",
    "      time_elapsed = time.time() - start_time\n",
    "    print(alice_bob_error,eve_error)\n",
    "    bob_one_bit_wrong_mean = alice_bob_error.cpu().detach().numpy()\n",
    "    eve_ = eve_error.cpu().detach().numpy()\n",
    "    \n",
    "\n",
    "\n",
    "    '''if i % LOOPS_PER_PRINT == 0:\n",
    "      print(f'Epoch: {i + 1:06d} | '\n",
    "            f'one epoch time: {time_elapsed:.3f} | '\n",
    "            f'bob one bit wrong: {bob_one_bit_wrong_mean:.4f} |')\n",
    "    alice_bob_wrong_for_plot.append(bob_one_bit_wrong_mean)'''\n",
    "    alice_bob_wrong_for_plot.append(bob_one_bit_wrong_mean)\n",
    "    eve_wrong_for_plot.append(eve_)\n",
    "\n",
    "  plot_wrong(alice_bob_wrong_for_plot,eve_wrong_for_plot)\n",
    "  checkpoint={'alice_bob':Network(),\n",
    "                'state_dict': alice_bob.state_dict(),\n",
    "                'optimizer': optimizer_alice_bob.state_dict()\n",
    "                }\n",
    "  torch.save(checkpoint,'checkpoint1v.pth')\n",
    "  checkpoint1={'eve': Network2(),\n",
    "                'state_dict1': eve.state_dict(),\n",
    "                'optimizer1': optimizer_eve.state_dict()\n",
    "                }\n",
    "  torch.save(checkpoint1,'checkpoint11v.pth')\n",
    "\n",
    "if __name__ == \"__main__\":\n",
    "\n",
    "    train()"
   ]
  }
 ],
 "metadata": {
  "hide_input": false,
  "kernelspec": {
   "display_name": "Python 3",
   "language": "python",
   "name": "python3"
  },
  "language_info": {
   "codemirror_mode": {
    "name": "ipython",
    "version": 3
   },
   "file_extension": ".py",
   "mimetype": "text/x-python",
   "name": "python",
   "nbconvert_exporter": "python",
   "pygments_lexer": "ipython3",
   "version": "3.7.3"
  },
  "latex_envs": {
   "LaTeX_envs_menu_present": true,
   "autoclose": false,
   "autocomplete": true,
   "bibliofile": "biblio.bib",
   "cite_by": "apalike",
   "current_citInitial": 1,
   "eqLabelWithNumbers": true,
   "eqNumInitial": 1,
   "hotkeys": {
    "equation": "Ctrl-E",
    "itemize": "Ctrl-I"
   },
   "labels_anchors": false,
   "latex_user_defs": false,
   "report_style_numbering": false,
   "user_envs_cfg": false
  },
  "toc": {
   "base_numbering": 1,
   "nav_menu": {},
   "number_sections": true,
   "sideBar": true,
   "skip_h1_title": false,
   "title_cell": "Table of Contents",
   "title_sidebar": "Contents",
   "toc_cell": false,
   "toc_position": {},
   "toc_section_display": true,
   "toc_window_display": false
  },
  "varInspector": {
   "cols": {
    "lenName": 16,
    "lenType": 16,
    "lenVar": 40
   },
   "kernels_config": {
    "python": {
     "delete_cmd_postfix": "",
     "delete_cmd_prefix": "del ",
     "library": "var_list.py",
     "varRefreshCmd": "print(var_dic_list())"
    },
    "r": {
     "delete_cmd_postfix": ") ",
     "delete_cmd_prefix": "rm(",
     "library": "var_list.r",
     "varRefreshCmd": "cat(var_dic_list()) "
    }
   },
   "types_to_exclude": [
    "module",
    "function",
    "builtin_function_or_method",
    "instance",
    "_Feature"
   ],
   "window_display": false
  }
 },
 "nbformat": 4,
 "nbformat_minor": 2
}
