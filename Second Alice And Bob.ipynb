{
 "cells": [
  {
   "cell_type": "markdown",
   "metadata": {
    "colab_type": "text",
    "id": "AulXb8adYg8_"
   },
   "source": [
    "# FOR THIS  TEST N=16"
   ]
  },
  {
   "cell_type": "code",
   "execution_count": 1,
   "metadata": {
    "ExecuteTime": {
     "end_time": "2020-01-16T15:54:53.702063Z",
     "start_time": "2020-01-16T15:54:53.697908Z"
    },
    "colab": {},
    "colab_type": "code",
    "id": "T7-b1H4KYbEH"
   },
   "outputs": [],
   "source": [
    "#https://github.com/mathybit/ml-tutorials/blob/master/adversarial_neural_cryptography.ipynb\n",
    "#https://github.com/mila-iqia/ivado-mila-dl-school-2019/tree/master/tutorials\n",
    "#https://github.com/tyburam/neural-cryptography-pytorch/blob/master/src/model.py"
   ]
  },
  {
   "cell_type": "markdown",
   "metadata": {
    "colab_type": "text",
    "id": "aWOu6PMOW-K7"
   },
   "source": [
    "# Define The Parameters"
   ]
  },
  {
   "cell_type": "code",
   "execution_count": 12,
   "metadata": {
    "ExecuteTime": {
     "end_time": "2020-01-17T16:14:33.761494Z",
     "start_time": "2020-01-17T16:14:33.756200Z"
    },
    "colab": {},
    "colab_type": "code",
    "id": "v-9aE7ShCPxz"
   },
   "outputs": [],
   "source": [
    "\n",
    "KEY_TEXT=4\n",
    "MSG_TEXT=4\n",
    "C_TEXT=4\n",
    "LEARNING_RATE=0.1\n",
    "LAMBDA=5\n",
    "BATCH_SIZE=512\n",
    "m_train=2**(MSG_TEXT)\n",
    "NUM_BATCH_SIZE=128\n",
    "MAX_INTERATION=100000\n",
    "EVE_ONE_BIT_WRONG_THRESH = 0.97\n",
    "BOB_ONE_BIT_WRONG_THRESH=0.0025\n",
    "CLIP_VALUE = 1\n",
    "LOOPS_PER_PRINT = 100   # every 100 loops print one time\n",
    "CYCLE_ALICE_BOB=5\n",
    "CYCLE_EVE=10\n"
   ]
  },
  {
   "cell_type": "code",
   "execution_count": 13,
   "metadata": {
    "ExecuteTime": {
     "end_time": "2020-01-17T16:14:34.510080Z",
     "start_time": "2020-01-17T16:14:34.500301Z"
    },
    "colab": {
     "base_uri": "https://localhost:8080/",
     "height": 34
    },
    "colab_type": "code",
    "executionInfo": {
     "elapsed": 1323,
     "status": "ok",
     "timestamp": 1579055038997,
     "user": {
      "displayName": "Mohamed Sylla",
      "photoUrl": "https://lh3.googleusercontent.com/a-/AAuE7mBKfYHnfASbRKLMoEv9zPmn34chrf6Ht3N0YX3R=s64",
      "userId": "02630255124911373577"
     },
     "user_tz": 0
    },
    "id": "6N_iFotPuX8_",
    "outputId": "add4d4d3-32d7-4e23-cdd4-49276aabbc84"
   },
   "outputs": [
    {
     "data": {
      "text/plain": [
       "0.0625"
      ]
     },
     "execution_count": 13,
     "metadata": {},
     "output_type": "execute_result"
    }
   ],
   "source": [
    "m_train/256"
   ]
  },
  {
   "cell_type": "markdown",
   "metadata": {
    "colab_type": "text",
    "id": "TG0_y0ZNYooW"
   },
   "source": [
    "# PACKAGE USED IN OUR TEST"
   ]
  },
  {
   "cell_type": "code",
   "execution_count": 14,
   "metadata": {
    "ExecuteTime": {
     "end_time": "2020-01-17T16:14:36.292007Z",
     "start_time": "2020-01-17T16:14:36.286549Z"
    },
    "colab": {},
    "colab_type": "code",
    "id": "NJyvYl5QpfNA"
   },
   "outputs": [],
   "source": [
    "import torch\n",
    "import numpy as np\n",
    "import torch.nn as nn\n",
    "import torch.optim as optim\n",
    "\n",
    "import seaborn as sns\n",
    "import matplotlib.pyplot as plt\n",
    "import time"
   ]
  },
  {
   "cell_type": "markdown",
   "metadata": {
    "colab_type": "text",
    "id": "MRRVAwmKcONL"
   },
   "source": [
    "# We define the function we want to use to transforme "
   ]
  },
  {
   "cell_type": "code",
   "execution_count": 15,
   "metadata": {
    "ExecuteTime": {
     "end_time": "2020-01-17T16:14:38.156518Z",
     "start_time": "2020-01-17T16:14:38.152631Z"
    },
    "colab": {},
    "colab_type": "code",
    "id": "5SnH4AFZcZAF"
   },
   "outputs": [],
   "source": [
    "def function(x):\n",
    "  return torch.acos((1-2*x))\n",
    "  ''' ''' \n",
    "\n",
    "def inv_function(y):\n",
    "    \n",
    "  return (1-torch.cos(y))/2"
   ]
  },
  {
   "cell_type": "markdown",
   "metadata": {
    "colab_type": "text",
    "id": "BjRqf7MhZaJl"
   },
   "source": [
    "# We define Our Networks for Alice and Bob"
   ]
  },
  {
   "cell_type": "code",
   "execution_count": 16,
   "metadata": {
    "ExecuteTime": {
     "end_time": "2020-01-17T16:14:40.069428Z",
     "start_time": "2020-01-17T16:14:40.063730Z"
    },
    "colab": {},
    "colab_type": "code",
    "id": "HWPbCbBIY4L6"
   },
   "outputs": [],
   "source": [
    "class Network(nn.Module):\n",
    "    '''\n",
    "    Standard Convolutional layers setup used by Alice and Bob.\n",
    "    Input: 2N tensor, PlainText+MessageKey(Alice) or CipherText+Key(Bob)\n",
    "    Output: N tensor, CipherText(Alice) or PlainText(Bob)\n",
    "    '''\n",
    "    def __init__(self):\n",
    "        super(Network,self).__init__()\n",
    "        self.fc_in =MSG_TEXT + KEY_TEXT\n",
    "        self.fc_out = KEY_TEXT\n",
    "        self.l1 = nn.Linear(self.fc_in,self.fc_out,bias=False)\n",
    "\n",
    "    def forward(self,input):\n",
    "\n",
    "        inputs = function(input)\n",
    "        #print(\"inputs:\",inputs)\n",
    "        out = self.l1(inputs) #requires_grad\n",
    "        #print(\"out:\",out.requires_grad)\n",
    "        _out = inv_function(out) #possibly removes requires grad\n",
    "        #print(\"_out:\",_out.requires_grad)\n",
    "        #print(\"out:\",_out)\n",
    "        \n",
    "        output = _out\n",
    "        #print('one pass AB', output.size())\n",
    "        return output\n"
   ]
  },
  {
   "cell_type": "markdown",
   "metadata": {
    "colab_type": "text",
    "id": "6PQk1lxzQ2GC"
   },
   "source": [
    "# EVE NETWORK\n"
   ]
  },
  {
   "cell_type": "code",
   "execution_count": 17,
   "metadata": {
    "ExecuteTime": {
     "end_time": "2020-01-17T16:15:04.720941Z",
     "start_time": "2020-01-17T16:15:04.709693Z"
    },
    "colab": {},
    "colab_type": "code",
    "id": "XtKiOjhsQ8Ho"
   },
   "outputs": [],
   "source": [
    "class Network2(nn.Module):\n",
    "    '''\n",
    "    Standard Convolutional layers setup used by Alice and Bob.\n",
    "    Input: 2N tensor, PlainText+MessageKey(Alice) or CipherText+Key(Bob)\n",
    "    Output: N tensor, CipherText(Alice) or PlainText(Bob)\n",
    "    '''\n",
    "    def __init__(self):\n",
    "        super(Network2,self).__init__()\n",
    "        self.fc_in =MSG_TEXT\n",
    "        self.fc_out = C_TEXT\n",
    "        self.l1 = nn.Linear(self.fc_in,self.fc_out,bias=False)\n",
    "\n",
    "    def forward(self,input):\n",
    "\n",
    "        inputs = function(input)\n",
    "        #print(\"inputs:\",inputs)\n",
    "        out = self.l1(inputs) #requires_grad\n",
    "        #print(\"out:\",out.requires_grad)\n",
    "        _out = inv_function(out) #possibly removes requires grad\n",
    "        #print(\"_out:\",_out.requires_grad)\n",
    "        #print(\"out:\",_out)\n",
    "        \n",
    "        output = _out\n",
    "        #print('one pass AB', output.size())\n",
    "        return output\n"
   ]
  },
  {
   "cell_type": "markdown",
   "metadata": {
    "colab_type": "text",
    "id": "fYjBojDfcHLs"
   },
   "source": [
    "# Function to GEnerate DATA and Plot"
   ]
  },
  {
   "cell_type": "code",
   "execution_count": 18,
   "metadata": {
    "ExecuteTime": {
     "end_time": "2020-01-17T16:15:05.488968Z",
     "start_time": "2020-01-17T16:15:05.476555Z"
    },
    "colab": {},
    "colab_type": "code",
    "id": "z492Tw1na2dZ"
   },
   "outputs": [],
   "source": [
    "def generate_data(batch_size, ptext_size, key_size):\n",
    "    \"\"\"\n",
    "    generate data.\n",
    "    :param batch_size: batch size, hyper-parameters, in this program BATCH_SIZE is 256\n",
    "    :param ptext_size: ptext size, hyper-parameters, in this program PTEXT_SIZE is 16\n",
    "    :param key_size: key's size, hyper-parameters, in this program KEY_SIZE is 16\n",
    "    :return: ptext and key, in this program size are both [256, 16]\n",
    "    \"\"\"\n",
    "    ptext = torch.randint(0, 2, (batch_size, ptext_size), dtype=torch.float) * 1\n",
    "    key = torch.randint(0, 2, (batch_size, key_size), dtype=torch.float) * 1\n",
    "    return ptext, key"
   ]
  },
  {
   "cell_type": "code",
   "execution_count": 19,
   "metadata": {
    "ExecuteTime": {
     "end_time": "2020-01-17T16:15:06.418296Z",
     "start_time": "2020-01-17T16:15:06.413473Z"
    },
    "colab": {},
    "colab_type": "code",
    "id": "kBPlqZ_J2f_m"
   },
   "outputs": [],
   "source": [
    "def gen_data(n=BATCH_SIZE, msg_len=MSG_TEXT, key_len=KEY_TEXT):\n",
    "    return (np.random.randint(0, 2, size=(n, msg_len)) * 1), \\\n",
    "           (np.random.randint(0, 2, size=(n, key_len)) * 1)"
   ]
  },
  {
   "cell_type": "code",
   "execution_count": null,
   "metadata": {
    "colab": {},
    "colab_type": "code",
    "id": "HWYVm7L32vWn"
   },
   "outputs": [],
   "source": []
  },
  {
   "cell_type": "code",
   "execution_count": 20,
   "metadata": {
    "ExecuteTime": {
     "end_time": "2020-01-17T16:15:15.559548Z",
     "start_time": "2020-01-17T16:15:15.556387Z"
    },
    "colab": {},
    "colab_type": "code",
    "id": "2jDVVu4qdD68"
   },
   "outputs": [],
   "source": [
    "#msg,key=generate_data(512,16,16)"
   ]
  },
  {
   "cell_type": "code",
   "execution_count": null,
   "metadata": {
    "colab": {},
    "colab_type": "code",
    "id": "T54ZnJlUrt2w"
   },
   "outputs": [],
   "source": []
  },
  {
   "cell_type": "code",
   "execution_count": 21,
   "metadata": {
    "ExecuteTime": {
     "end_time": "2020-01-17T16:15:17.584785Z",
     "start_time": "2020-01-17T16:15:17.577101Z"
    },
    "colab": {},
    "colab_type": "code",
    "id": "P_R1s_mCdME1"
   },
   "outputs": [],
   "source": [
    "def plot_wrong( alice_bob_wrong_for_plot,eve_wrong_for_plot):\n",
    "    \"\"\"\n",
    "    plot epoch-wrong picture\n",
    "    \n",
    "    :param alice_bob_wrong_for_plot: a list, element is the mean of bob one bit wrong\n",
    "    :return:\n",
    "    \"\"\"\n",
    "    plt.plot(range(1, len(eve_wrong_for_plot)+1), eve_wrong_for_plot, label='eve one bit wrong mean')\n",
    "    plt.plot(range(1, len(alice_bob_wrong_for_plot)+1), alice_bob_wrong_for_plot, label='bob one bit wrong mean')\n",
    "    plt.xlabel(\"Epochs\")\n",
    "    plt.ylabel(\"One Bit Wrong\")\n",
    "    plt.title(\"optimizer_alice_bob_times\")\n",
    "    plt.legend()\n",
    "    plt.show()\n",
    "\n",
    "\n",
    "def plot_errors(eve_errors,alice_bob_loss):\n",
    "  sns.set_style(\"darkgrid\")\n",
    "  #plt.plot(bob_errors)\n",
    "  plt.plot(eve_errors)\n",
    "  plt.plot(alice_bob_loss)\n",
    "  plt.legend(['bob', 'eve','alice bob'])\n",
    "  plt.xlabel('Epoch')\n",
    "  plt.ylabel('Lowest Decryption error achieved')\n",
    "  plt.show()\n",
    "\n"
   ]
  },
  {
   "cell_type": "code",
   "execution_count": 545,
   "metadata": {
    "ExecuteTime": {
     "end_time": "2020-01-16T22:46:47.666923Z",
     "start_time": "2020-01-16T22:46:47.650407Z"
    },
    "colab": {},
    "colab_type": "code",
    "id": "imotvWuK4b93"
   },
   "outputs": [],
   "source": [
    "def train():\n",
    "   bob_errors = []\n",
    "   eve_errors = []\n",
    "   alice_bob_los=[]\n",
    "   #torch.manual_seed(10)\n",
    "   alice_bob = Network()\n",
    "   eve = Network2()\n",
    "   alice_bob.train()\n",
    "   eve.train()\n",
    "\n",
    "   optimizer_alice_bob = optim.Adam(alice_bob.parameters(), lr=LEARNING_RATE)\n",
    "   optimizer_eve = optim.Adam(eve.parameters(), lr=LEARNING_RATE)\n",
    "\n",
    "\n",
    "   alice_bob_reconstruction_error = nn.L1Loss()\n",
    "   eve_reconstruction_error = nn.L1Loss()\n",
    "\n",
    "\n",
    "\n",
    "   for i in range(20):\n",
    "      err_bob = err_eve = 0\n",
    "\n",
    "      #print('Training networks, Epoch:', i + 1)\n",
    "      start_time = time.time()\n",
    "\n",
    "      \n",
    "      for j in range(128):\n",
    "        np.random.seed(1)\n",
    "        data = gen_data(BATCH_SIZE, MSG_TEXT, KEY_TEXT)\n",
    "        msg = torch.tensor(data[0], dtype=torch.float)\n",
    "        key = torch.tensor(data[1], dtype=torch.float)\n",
    "        alice_input = torch.cat((msg, key), 1)\n",
    "        optimizer_alice_bob.zero_grad()\n",
    "        optimizer_eve.zero_grad() \n",
    "\n",
    "        with torch.no_grad():\n",
    "          ctext= alice_bob(alice_input)\n",
    "          \n",
    "              #print(ptext_eve)\n",
    "                \n",
    "        ptext_eve = eve(ctext)\n",
    "        bob_input = torch.cat((ctext, key), 1)\n",
    "        ptext_bob = alice_bob(bob_input)\n",
    "\n",
    "        alice_bob_error=alice_bob_reconstruction_error(ptext_bob,msg)\n",
    "        eve_error =eve_reconstruction_error(ptext_eve,msg)\n",
    "          #print(eve_error)\n",
    "        alice_bob_loss=alice_bob_error -  5*min(eve_error.item(),0.2)\n",
    "\n",
    "        alice_bob_loss.backward(retain_graph=True)\n",
    "        optimizer_alice_bob.step()\n",
    "\n",
    "        \n",
    "        eve_error.backward()\n",
    "        optimizer_eve.step()\n",
    "    \n",
    "    #print('bob error: {} eve error: {}'.format(alice_bob_error.data, eve_error.data))\n",
    "      bob_errors.append(alice_bob_error.data)\n",
    "     \n",
    "      eve_errors.append(eve_error.data)\n",
    "      alice_bob_los.append(alice_bob_loss.data)\n",
    "      checkpoint={'alice_bob':Network(),\n",
    "                'state_dict': alice_bob.state_dict(),\n",
    "                'optimizer': optimizer_alice_bob.state_dict()\n",
    "                }\n",
    "      torch.save(checkpoint,'checkpoint1.pth')\n",
    "      checkpoint1={'eve': Network2(),\n",
    "                'state_dict1': eve.state_dict(),\n",
    "                'optimizer1': optimizer_eve.state_dict()\n",
    "                }\n",
    "      torch.save(checkpoint1,'checkpoint11.pth')\n",
    "  \n",
    "   plot_errors(eve_errors,alice_bob_los)"
   ]
  },
  {
   "cell_type": "code",
   "execution_count": 546,
   "metadata": {
    "ExecuteTime": {
     "end_time": "2020-01-16T22:46:58.335207Z",
     "start_time": "2020-01-16T22:46:49.739086Z"
    },
    "colab": {
     "base_uri": "https://localhost:8080/",
     "height": 403
    },
    "colab_type": "code",
    "executionInfo": {
     "elapsed": 16890,
     "status": "ok",
     "timestamp": 1579045064289,
     "user": {
      "displayName": "Mohamed Sylla",
      "photoUrl": "https://lh3.googleusercontent.com/a-/AAuE7mBKfYHnfASbRKLMoEv9zPmn34chrf6Ht3N0YX3R=s64",
      "userId": "02630255124911373577"
     },
     "user_tz": 0
    },
    "id": "lbiFmIJzXl9f",
    "outputId": "a25cd24d-7704-4510-c891-c956b5b1808c"
   },
   "outputs": [
    {
     "name": "stderr",
     "output_type": "stream",
     "text": [
      "/home/syllamohamed/anaconda3/lib/python3.7/site-packages/torch/serialization.py:292: UserWarning: Couldn't retrieve source code for container of type Network. It won't be checked for correctness upon loading.\n",
      "  \"type \" + obj.__name__ + \". It won't be checked \"\n",
      "/home/syllamohamed/anaconda3/lib/python3.7/site-packages/torch/serialization.py:292: UserWarning: Couldn't retrieve source code for container of type Linear. It won't be checked for correctness upon loading.\n",
      "  \"type \" + obj.__name__ + \". It won't be checked \"\n",
      "/home/syllamohamed/anaconda3/lib/python3.7/site-packages/torch/serialization.py:292: UserWarning: Couldn't retrieve source code for container of type Network2. It won't be checked for correctness upon loading.\n",
      "  \"type \" + obj.__name__ + \". It won't be checked \"\n",
      "/home/syllamohamed/anaconda3/lib/python3.7/site-packages/torch/serialization.py:292: UserWarning: Couldn't retrieve source code for container of type Linear. It won't be checked for correctness upon loading.\n",
      "  \"type \" + obj.__name__ + \". It won't be checked \"\n",
      "/home/syllamohamed/anaconda3/lib/python3.7/site-packages/torch/serialization.py:292: UserWarning: Couldn't retrieve source code for container of type Network. It won't be checked for correctness upon loading.\n",
      "  \"type \" + obj.__name__ + \". It won't be checked \"\n",
      "/home/syllamohamed/anaconda3/lib/python3.7/site-packages/torch/serialization.py:292: UserWarning: Couldn't retrieve source code for container of type Linear. It won't be checked for correctness upon loading.\n",
      "  \"type \" + obj.__name__ + \". It won't be checked \"\n",
      "/home/syllamohamed/anaconda3/lib/python3.7/site-packages/torch/serialization.py:292: UserWarning: Couldn't retrieve source code for container of type Network2. It won't be checked for correctness upon loading.\n",
      "  \"type \" + obj.__name__ + \". It won't be checked \"\n",
      "/home/syllamohamed/anaconda3/lib/python3.7/site-packages/torch/serialization.py:292: UserWarning: Couldn't retrieve source code for container of type Linear. It won't be checked for correctness upon loading.\n",
      "  \"type \" + obj.__name__ + \". It won't be checked \"\n",
      "/home/syllamohamed/anaconda3/lib/python3.7/site-packages/torch/serialization.py:292: UserWarning: Couldn't retrieve source code for container of type Network. It won't be checked for correctness upon loading.\n",
      "  \"type \" + obj.__name__ + \". It won't be checked \"\n",
      "/home/syllamohamed/anaconda3/lib/python3.7/site-packages/torch/serialization.py:292: UserWarning: Couldn't retrieve source code for container of type Linear. It won't be checked for correctness upon loading.\n",
      "  \"type \" + obj.__name__ + \". It won't be checked \"\n",
      "/home/syllamohamed/anaconda3/lib/python3.7/site-packages/torch/serialization.py:292: UserWarning: Couldn't retrieve source code for container of type Network2. It won't be checked for correctness upon loading.\n",
      "  \"type \" + obj.__name__ + \". It won't be checked \"\n",
      "/home/syllamohamed/anaconda3/lib/python3.7/site-packages/torch/serialization.py:292: UserWarning: Couldn't retrieve source code for container of type Linear. It won't be checked for correctness upon loading.\n",
      "  \"type \" + obj.__name__ + \". It won't be checked \"\n",
      "/home/syllamohamed/anaconda3/lib/python3.7/site-packages/torch/serialization.py:292: UserWarning: Couldn't retrieve source code for container of type Network. It won't be checked for correctness upon loading.\n",
      "  \"type \" + obj.__name__ + \". It won't be checked \"\n",
      "/home/syllamohamed/anaconda3/lib/python3.7/site-packages/torch/serialization.py:292: UserWarning: Couldn't retrieve source code for container of type Linear. It won't be checked for correctness upon loading.\n",
      "  \"type \" + obj.__name__ + \". It won't be checked \"\n",
      "/home/syllamohamed/anaconda3/lib/python3.7/site-packages/torch/serialization.py:292: UserWarning: Couldn't retrieve source code for container of type Network2. It won't be checked for correctness upon loading.\n",
      "  \"type \" + obj.__name__ + \". It won't be checked \"\n",
      "/home/syllamohamed/anaconda3/lib/python3.7/site-packages/torch/serialization.py:292: UserWarning: Couldn't retrieve source code for container of type Linear. It won't be checked for correctness upon loading.\n",
      "  \"type \" + obj.__name__ + \". It won't be checked \"\n",
      "/home/syllamohamed/anaconda3/lib/python3.7/site-packages/torch/serialization.py:292: UserWarning: Couldn't retrieve source code for container of type Network. It won't be checked for correctness upon loading.\n",
      "  \"type \" + obj.__name__ + \". It won't be checked \"\n",
      "/home/syllamohamed/anaconda3/lib/python3.7/site-packages/torch/serialization.py:292: UserWarning: Couldn't retrieve source code for container of type Linear. It won't be checked for correctness upon loading.\n",
      "  \"type \" + obj.__name__ + \". It won't be checked \"\n",
      "/home/syllamohamed/anaconda3/lib/python3.7/site-packages/torch/serialization.py:292: UserWarning: Couldn't retrieve source code for container of type Network2. It won't be checked for correctness upon loading.\n",
      "  \"type \" + obj.__name__ + \". It won't be checked \"\n",
      "/home/syllamohamed/anaconda3/lib/python3.7/site-packages/torch/serialization.py:292: UserWarning: Couldn't retrieve source code for container of type Linear. It won't be checked for correctness upon loading.\n",
      "  \"type \" + obj.__name__ + \". It won't be checked \"\n",
      "/home/syllamohamed/anaconda3/lib/python3.7/site-packages/torch/serialization.py:292: UserWarning: Couldn't retrieve source code for container of type Network. It won't be checked for correctness upon loading.\n",
      "  \"type \" + obj.__name__ + \". It won't be checked \"\n",
      "/home/syllamohamed/anaconda3/lib/python3.7/site-packages/torch/serialization.py:292: UserWarning: Couldn't retrieve source code for container of type Linear. It won't be checked for correctness upon loading.\n",
      "  \"type \" + obj.__name__ + \". It won't be checked \"\n",
      "/home/syllamohamed/anaconda3/lib/python3.7/site-packages/torch/serialization.py:292: UserWarning: Couldn't retrieve source code for container of type Network2. It won't be checked for correctness upon loading.\n",
      "  \"type \" + obj.__name__ + \". It won't be checked \"\n",
      "/home/syllamohamed/anaconda3/lib/python3.7/site-packages/torch/serialization.py:292: UserWarning: Couldn't retrieve source code for container of type Linear. It won't be checked for correctness upon loading.\n",
      "  \"type \" + obj.__name__ + \". It won't be checked \"\n",
      "/home/syllamohamed/anaconda3/lib/python3.7/site-packages/torch/serialization.py:292: UserWarning: Couldn't retrieve source code for container of type Network. It won't be checked for correctness upon loading.\n",
      "  \"type \" + obj.__name__ + \". It won't be checked \"\n",
      "/home/syllamohamed/anaconda3/lib/python3.7/site-packages/torch/serialization.py:292: UserWarning: Couldn't retrieve source code for container of type Linear. It won't be checked for correctness upon loading.\n",
      "  \"type \" + obj.__name__ + \". It won't be checked \"\n",
      "/home/syllamohamed/anaconda3/lib/python3.7/site-packages/torch/serialization.py:292: UserWarning: Couldn't retrieve source code for container of type Network2. It won't be checked for correctness upon loading.\n",
      "  \"type \" + obj.__name__ + \". It won't be checked \"\n",
      "/home/syllamohamed/anaconda3/lib/python3.7/site-packages/torch/serialization.py:292: UserWarning: Couldn't retrieve source code for container of type Linear. It won't be checked for correctness upon loading.\n",
      "  \"type \" + obj.__name__ + \". It won't be checked \"\n",
      "/home/syllamohamed/anaconda3/lib/python3.7/site-packages/torch/serialization.py:292: UserWarning: Couldn't retrieve source code for container of type Network. It won't be checked for correctness upon loading.\n",
      "  \"type \" + obj.__name__ + \". It won't be checked \"\n",
      "/home/syllamohamed/anaconda3/lib/python3.7/site-packages/torch/serialization.py:292: UserWarning: Couldn't retrieve source code for container of type Linear. It won't be checked for correctness upon loading.\n",
      "  \"type \" + obj.__name__ + \". It won't be checked \"\n",
      "/home/syllamohamed/anaconda3/lib/python3.7/site-packages/torch/serialization.py:292: UserWarning: Couldn't retrieve source code for container of type Network2. It won't be checked for correctness upon loading.\n",
      "  \"type \" + obj.__name__ + \". It won't be checked \"\n",
      "/home/syllamohamed/anaconda3/lib/python3.7/site-packages/torch/serialization.py:292: UserWarning: Couldn't retrieve source code for container of type Linear. It won't be checked for correctness upon loading.\n",
      "  \"type \" + obj.__name__ + \". It won't be checked \"\n"
     ]
    },
    {
     "name": "stderr",
     "output_type": "stream",
     "text": [
      "/home/syllamohamed/anaconda3/lib/python3.7/site-packages/torch/serialization.py:292: UserWarning: Couldn't retrieve source code for container of type Network. It won't be checked for correctness upon loading.\n",
      "  \"type \" + obj.__name__ + \". It won't be checked \"\n",
      "/home/syllamohamed/anaconda3/lib/python3.7/site-packages/torch/serialization.py:292: UserWarning: Couldn't retrieve source code for container of type Linear. It won't be checked for correctness upon loading.\n",
      "  \"type \" + obj.__name__ + \". It won't be checked \"\n",
      "/home/syllamohamed/anaconda3/lib/python3.7/site-packages/torch/serialization.py:292: UserWarning: Couldn't retrieve source code for container of type Network2. It won't be checked for correctness upon loading.\n",
      "  \"type \" + obj.__name__ + \". It won't be checked \"\n",
      "/home/syllamohamed/anaconda3/lib/python3.7/site-packages/torch/serialization.py:292: UserWarning: Couldn't retrieve source code for container of type Linear. It won't be checked for correctness upon loading.\n",
      "  \"type \" + obj.__name__ + \". It won't be checked \"\n",
      "/home/syllamohamed/anaconda3/lib/python3.7/site-packages/torch/serialization.py:292: UserWarning: Couldn't retrieve source code for container of type Network. It won't be checked for correctness upon loading.\n",
      "  \"type \" + obj.__name__ + \". It won't be checked \"\n",
      "/home/syllamohamed/anaconda3/lib/python3.7/site-packages/torch/serialization.py:292: UserWarning: Couldn't retrieve source code for container of type Linear. It won't be checked for correctness upon loading.\n",
      "  \"type \" + obj.__name__ + \". It won't be checked \"\n",
      "/home/syllamohamed/anaconda3/lib/python3.7/site-packages/torch/serialization.py:292: UserWarning: Couldn't retrieve source code for container of type Network2. It won't be checked for correctness upon loading.\n",
      "  \"type \" + obj.__name__ + \". It won't be checked \"\n",
      "/home/syllamohamed/anaconda3/lib/python3.7/site-packages/torch/serialization.py:292: UserWarning: Couldn't retrieve source code for container of type Linear. It won't be checked for correctness upon loading.\n",
      "  \"type \" + obj.__name__ + \". It won't be checked \"\n",
      "/home/syllamohamed/anaconda3/lib/python3.7/site-packages/torch/serialization.py:292: UserWarning: Couldn't retrieve source code for container of type Network. It won't be checked for correctness upon loading.\n",
      "  \"type \" + obj.__name__ + \". It won't be checked \"\n",
      "/home/syllamohamed/anaconda3/lib/python3.7/site-packages/torch/serialization.py:292: UserWarning: Couldn't retrieve source code for container of type Linear. It won't be checked for correctness upon loading.\n",
      "  \"type \" + obj.__name__ + \". It won't be checked \"\n",
      "/home/syllamohamed/anaconda3/lib/python3.7/site-packages/torch/serialization.py:292: UserWarning: Couldn't retrieve source code for container of type Network2. It won't be checked for correctness upon loading.\n",
      "  \"type \" + obj.__name__ + \". It won't be checked \"\n",
      "/home/syllamohamed/anaconda3/lib/python3.7/site-packages/torch/serialization.py:292: UserWarning: Couldn't retrieve source code for container of type Linear. It won't be checked for correctness upon loading.\n",
      "  \"type \" + obj.__name__ + \". It won't be checked \"\n",
      "/home/syllamohamed/anaconda3/lib/python3.7/site-packages/torch/serialization.py:292: UserWarning: Couldn't retrieve source code for container of type Network. It won't be checked for correctness upon loading.\n",
      "  \"type \" + obj.__name__ + \". It won't be checked \"\n",
      "/home/syllamohamed/anaconda3/lib/python3.7/site-packages/torch/serialization.py:292: UserWarning: Couldn't retrieve source code for container of type Linear. It won't be checked for correctness upon loading.\n",
      "  \"type \" + obj.__name__ + \". It won't be checked \"\n",
      "/home/syllamohamed/anaconda3/lib/python3.7/site-packages/torch/serialization.py:292: UserWarning: Couldn't retrieve source code for container of type Network2. It won't be checked for correctness upon loading.\n",
      "  \"type \" + obj.__name__ + \". It won't be checked \"\n",
      "/home/syllamohamed/anaconda3/lib/python3.7/site-packages/torch/serialization.py:292: UserWarning: Couldn't retrieve source code for container of type Linear. It won't be checked for correctness upon loading.\n",
      "  \"type \" + obj.__name__ + \". It won't be checked \"\n",
      "/home/syllamohamed/anaconda3/lib/python3.7/site-packages/torch/serialization.py:292: UserWarning: Couldn't retrieve source code for container of type Network. It won't be checked for correctness upon loading.\n",
      "  \"type \" + obj.__name__ + \". It won't be checked \"\n",
      "/home/syllamohamed/anaconda3/lib/python3.7/site-packages/torch/serialization.py:292: UserWarning: Couldn't retrieve source code for container of type Linear. It won't be checked for correctness upon loading.\n",
      "  \"type \" + obj.__name__ + \". It won't be checked \"\n",
      "/home/syllamohamed/anaconda3/lib/python3.7/site-packages/torch/serialization.py:292: UserWarning: Couldn't retrieve source code for container of type Network2. It won't be checked for correctness upon loading.\n",
      "  \"type \" + obj.__name__ + \". It won't be checked \"\n",
      "/home/syllamohamed/anaconda3/lib/python3.7/site-packages/torch/serialization.py:292: UserWarning: Couldn't retrieve source code for container of type Linear. It won't be checked for correctness upon loading.\n",
      "  \"type \" + obj.__name__ + \". It won't be checked \"\n",
      "/home/syllamohamed/anaconda3/lib/python3.7/site-packages/torch/serialization.py:292: UserWarning: Couldn't retrieve source code for container of type Network. It won't be checked for correctness upon loading.\n",
      "  \"type \" + obj.__name__ + \". It won't be checked \"\n",
      "/home/syllamohamed/anaconda3/lib/python3.7/site-packages/torch/serialization.py:292: UserWarning: Couldn't retrieve source code for container of type Linear. It won't be checked for correctness upon loading.\n",
      "  \"type \" + obj.__name__ + \". It won't be checked \"\n",
      "/home/syllamohamed/anaconda3/lib/python3.7/site-packages/torch/serialization.py:292: UserWarning: Couldn't retrieve source code for container of type Network2. It won't be checked for correctness upon loading.\n",
      "  \"type \" + obj.__name__ + \". It won't be checked \"\n",
      "/home/syllamohamed/anaconda3/lib/python3.7/site-packages/torch/serialization.py:292: UserWarning: Couldn't retrieve source code for container of type Linear. It won't be checked for correctness upon loading.\n",
      "  \"type \" + obj.__name__ + \". It won't be checked \"\n",
      "/home/syllamohamed/anaconda3/lib/python3.7/site-packages/torch/serialization.py:292: UserWarning: Couldn't retrieve source code for container of type Network. It won't be checked for correctness upon loading.\n",
      "  \"type \" + obj.__name__ + \". It won't be checked \"\n",
      "/home/syllamohamed/anaconda3/lib/python3.7/site-packages/torch/serialization.py:292: UserWarning: Couldn't retrieve source code for container of type Linear. It won't be checked for correctness upon loading.\n",
      "  \"type \" + obj.__name__ + \". It won't be checked \"\n",
      "/home/syllamohamed/anaconda3/lib/python3.7/site-packages/torch/serialization.py:292: UserWarning: Couldn't retrieve source code for container of type Network2. It won't be checked for correctness upon loading.\n",
      "  \"type \" + obj.__name__ + \". It won't be checked \"\n",
      "/home/syllamohamed/anaconda3/lib/python3.7/site-packages/torch/serialization.py:292: UserWarning: Couldn't retrieve source code for container of type Linear. It won't be checked for correctness upon loading.\n",
      "  \"type \" + obj.__name__ + \". It won't be checked \"\n",
      "/home/syllamohamed/anaconda3/lib/python3.7/site-packages/torch/serialization.py:292: UserWarning: Couldn't retrieve source code for container of type Network. It won't be checked for correctness upon loading.\n",
      "  \"type \" + obj.__name__ + \". It won't be checked \"\n",
      "/home/syllamohamed/anaconda3/lib/python3.7/site-packages/torch/serialization.py:292: UserWarning: Couldn't retrieve source code for container of type Linear. It won't be checked for correctness upon loading.\n",
      "  \"type \" + obj.__name__ + \". It won't be checked \"\n",
      "/home/syllamohamed/anaconda3/lib/python3.7/site-packages/torch/serialization.py:292: UserWarning: Couldn't retrieve source code for container of type Network2. It won't be checked for correctness upon loading.\n",
      "  \"type \" + obj.__name__ + \". It won't be checked \"\n",
      "/home/syllamohamed/anaconda3/lib/python3.7/site-packages/torch/serialization.py:292: UserWarning: Couldn't retrieve source code for container of type Linear. It won't be checked for correctness upon loading.\n",
      "  \"type \" + obj.__name__ + \". It won't be checked \"\n"
     ]
    },
    {
     "name": "stderr",
     "output_type": "stream",
     "text": [
      "/home/syllamohamed/anaconda3/lib/python3.7/site-packages/torch/serialization.py:292: UserWarning: Couldn't retrieve source code for container of type Network. It won't be checked for correctness upon loading.\n",
      "  \"type \" + obj.__name__ + \". It won't be checked \"\n",
      "/home/syllamohamed/anaconda3/lib/python3.7/site-packages/torch/serialization.py:292: UserWarning: Couldn't retrieve source code for container of type Linear. It won't be checked for correctness upon loading.\n",
      "  \"type \" + obj.__name__ + \". It won't be checked \"\n",
      "/home/syllamohamed/anaconda3/lib/python3.7/site-packages/torch/serialization.py:292: UserWarning: Couldn't retrieve source code for container of type Network2. It won't be checked for correctness upon loading.\n",
      "  \"type \" + obj.__name__ + \". It won't be checked \"\n",
      "/home/syllamohamed/anaconda3/lib/python3.7/site-packages/torch/serialization.py:292: UserWarning: Couldn't retrieve source code for container of type Linear. It won't be checked for correctness upon loading.\n",
      "  \"type \" + obj.__name__ + \". It won't be checked \"\n",
      "/home/syllamohamed/anaconda3/lib/python3.7/site-packages/torch/serialization.py:292: UserWarning: Couldn't retrieve source code for container of type Network. It won't be checked for correctness upon loading.\n",
      "  \"type \" + obj.__name__ + \". It won't be checked \"\n",
      "/home/syllamohamed/anaconda3/lib/python3.7/site-packages/torch/serialization.py:292: UserWarning: Couldn't retrieve source code for container of type Linear. It won't be checked for correctness upon loading.\n",
      "  \"type \" + obj.__name__ + \". It won't be checked \"\n",
      "/home/syllamohamed/anaconda3/lib/python3.7/site-packages/torch/serialization.py:292: UserWarning: Couldn't retrieve source code for container of type Network2. It won't be checked for correctness upon loading.\n",
      "  \"type \" + obj.__name__ + \". It won't be checked \"\n",
      "/home/syllamohamed/anaconda3/lib/python3.7/site-packages/torch/serialization.py:292: UserWarning: Couldn't retrieve source code for container of type Linear. It won't be checked for correctness upon loading.\n",
      "  \"type \" + obj.__name__ + \". It won't be checked \"\n",
      "/home/syllamohamed/anaconda3/lib/python3.7/site-packages/torch/serialization.py:292: UserWarning: Couldn't retrieve source code for container of type Network. It won't be checked for correctness upon loading.\n",
      "  \"type \" + obj.__name__ + \". It won't be checked \"\n",
      "/home/syllamohamed/anaconda3/lib/python3.7/site-packages/torch/serialization.py:292: UserWarning: Couldn't retrieve source code for container of type Linear. It won't be checked for correctness upon loading.\n",
      "  \"type \" + obj.__name__ + \". It won't be checked \"\n",
      "/home/syllamohamed/anaconda3/lib/python3.7/site-packages/torch/serialization.py:292: UserWarning: Couldn't retrieve source code for container of type Network2. It won't be checked for correctness upon loading.\n",
      "  \"type \" + obj.__name__ + \". It won't be checked \"\n",
      "/home/syllamohamed/anaconda3/lib/python3.7/site-packages/torch/serialization.py:292: UserWarning: Couldn't retrieve source code for container of type Linear. It won't be checked for correctness upon loading.\n",
      "  \"type \" + obj.__name__ + \". It won't be checked \"\n",
      "/home/syllamohamed/anaconda3/lib/python3.7/site-packages/torch/serialization.py:292: UserWarning: Couldn't retrieve source code for container of type Network. It won't be checked for correctness upon loading.\n",
      "  \"type \" + obj.__name__ + \". It won't be checked \"\n",
      "/home/syllamohamed/anaconda3/lib/python3.7/site-packages/torch/serialization.py:292: UserWarning: Couldn't retrieve source code for container of type Linear. It won't be checked for correctness upon loading.\n",
      "  \"type \" + obj.__name__ + \". It won't be checked \"\n",
      "/home/syllamohamed/anaconda3/lib/python3.7/site-packages/torch/serialization.py:292: UserWarning: Couldn't retrieve source code for container of type Network2. It won't be checked for correctness upon loading.\n",
      "  \"type \" + obj.__name__ + \". It won't be checked \"\n",
      "/home/syllamohamed/anaconda3/lib/python3.7/site-packages/torch/serialization.py:292: UserWarning: Couldn't retrieve source code for container of type Linear. It won't be checked for correctness upon loading.\n",
      "  \"type \" + obj.__name__ + \". It won't be checked \"\n"
     ]
    },
    {
     "data": {
      "image/png": "[encoded data removed]",
      "text/plain": [
       "<Figure size 432x288 with 1 Axes>"
      ]
     },
     "metadata": {},
     "output_type": "display_data"
    }
   ],
   "source": [
    "train()"
   ]
  },
  {
   "cell_type": "code",
   "execution_count": 438,
   "metadata": {
    "ExecuteTime": {
     "end_time": "2020-01-16T20:47:06.830682Z",
     "start_time": "2020-01-16T20:45:59.853847Z"
    },
    "colab": {
     "base_uri": "https://localhost:8080/",
     "height": 360
    },
    "colab_type": "code",
    "executionInfo": {
     "elapsed": 1249,
     "status": "error",
     "timestamp": 1579075052052,
     "user": {
      "displayName": "Mohamed Sylla",
      "photoUrl": "https://lh3.googleusercontent.com/a-/AAuE7mBKfYHnfASbRKLMoEv9zPmn34chrf6Ht3N0YX3R=s64",
      "userId": "02630255124911373577"
     },
     "user_tz": 0
    },
    "id": "1gfR3Nnrdd4E",
    "outputId": "3a17ab61-6699-4293-e252-6b0b7429f08b"
   },
   "outputs": [
    {
     "name": "stdout",
     "output_type": "stream",
     "text": [
      "Epoch   0:  99% | abe: -2.108 | eve: 0.477 | bob: 0.392"
     ]
    },
    {
     "data": {
      "image/png": "[encoded data removed]",
      "text/plain": [
       "<Figure size 432x288 with 1 Axes>"
      ]
     },
     "metadata": {},
     "output_type": "display_data"
    },
    {
     "name": "stderr",
     "output_type": "stream",
     "text": [
      "/home/syllamohamed/anaconda3/lib/python3.7/site-packages/torch/serialization.py:292: UserWarning: Couldn't retrieve source code for container of type Network. It won't be checked for correctness upon loading.\n",
      "  \"type \" + obj.__name__ + \". It won't be checked \"\n",
      "/home/syllamohamed/anaconda3/lib/python3.7/site-packages/torch/serialization.py:292: UserWarning: Couldn't retrieve source code for container of type Linear. It won't be checked for correctness upon loading.\n",
      "  \"type \" + obj.__name__ + \". It won't be checked \"\n",
      "/home/syllamohamed/anaconda3/lib/python3.7/site-packages/torch/serialization.py:292: UserWarning: Couldn't retrieve source code for container of type Network2. It won't be checked for correctness upon loading.\n",
      "  \"type \" + obj.__name__ + \". It won't be checked \"\n",
      "/home/syllamohamed/anaconda3/lib/python3.7/site-packages/torch/serialization.py:292: UserWarning: Couldn't retrieve source code for container of type Linear. It won't be checked for correctness upon loading.\n",
      "  \"type \" + obj.__name__ + \". It won't be checked \"\n"
     ]
    }
   ],
   "source": [
    "import sys\n",
    "def train():\n",
    "  torch.manual_seed(10)\n",
    "  alice_bob_one_bit_wrong_mean = 0.0\n",
    "  eve_one_bit_wrong_mean =0.0\n",
    "  #alice_bob = Network()\n",
    "  alice_bob_wrong_for_plot = []\n",
    "  eve_wrong_for_plot       = []\n",
    "  alice_bob = Network()\n",
    "  eve = Network2()\n",
    "\n",
    "  alice_bob.train()\n",
    "  eve.train()\n",
    "\n",
    "  optimizer_alice_bob = optim.Adam(alice_bob.parameters(), lr=LEARNING_RATE)\n",
    "  optimizer_eve = optim.Adam(eve.parameters(), lr=LEARNING_RATE)\n",
    "\n",
    "\n",
    "  alice_bob_reconstruction_error = nn.L1Loss()\n",
    "  eve_reconstruction_error = nn.L1Loss()\n",
    "\n",
    "  \n",
    "  for i in range(60):\n",
    "\n",
    "    for k in range(128):\n",
    "        start_time = time.time()\n",
    "        for network,num_minibatch in {'alice_bob': 5, 'eve': 10}.items():\n",
    "\n",
    "          for minibatch in range(num_minibatch):\n",
    "            np.random.seed(1)\n",
    "            data = gen_data(BATCH_SIZE, MSG_TEXT, KEY_TEXT)\n",
    "            msg = torch.tensor(data[0], dtype=torch.float)\n",
    "            key = torch.tensor(data[1], dtype=torch.float)\n",
    "            alice_input = torch.cat((msg, key), 1)\n",
    "            with torch.no_grad():\n",
    "              ctext= alice_bob(alice_input)\n",
    "\n",
    "              #print(ptext_eve)\n",
    "            ptext_eve = eve(ctext)\n",
    "\n",
    "            if network == 'alice_bob':\n",
    "              bob_input = torch.cat((ctext, key), 1)\n",
    "              ptext_bob = alice_bob(bob_input)\n",
    "\n",
    "\n",
    "          #print(ptext_bob)\n",
    "\n",
    "              alice_bob_error=alice_bob_reconstruction_error(ptext_bob,msg)\n",
    "              eve_error =eve_reconstruction_error(ptext_eve,msg)\n",
    "              #print(eve_error)\n",
    "              optimizer_alice_bob.zero_grad()\n",
    "              alice_bob_loss=alice_bob_error -  5*min(eve_error.item(),0.5)\n",
    "              #print(alice_bob_loss)\n",
    "\n",
    "\n",
    "\n",
    "            #optimizer_alice.zero_grad()\n",
    "              alice_bob_loss.backward()\n",
    "              #nn.utils.clip_grad_value_(alice_bob.parameters(), CLIP_VALUE)\n",
    "            #\n",
    "\n",
    "\n",
    "            #optimizer_alice.step()\n",
    "              optimizer_alice_bob.step()\n",
    "                \n",
    "            elif network == 'eve':\n",
    "              optimizer_eve.zero_grad()\n",
    "              eve_error =eve_reconstruction_error(ptext_eve,msg)\n",
    "              #print(eve_error)\n",
    "              eve_error.backward()\n",
    "              #nn.utils.clip_grad_value_(eve.parameters(), CLIP_VALUE)\n",
    "              optimizer_eve.step()\n",
    "\n",
    "\n",
    "\n",
    "        time_elapsed = time.time() - start_time\n",
    "\n",
    "        bob_one_bit_wrong_mean = alice_bob_loss.cpu().detach().numpy()\n",
    "        bob_one = alice_bob_error.cpu().detach().numpy()\n",
    "        eve_one_bit_wrong_mean = eve_error.cpu().detach().numpy()\n",
    "\n",
    "\n",
    "        if i % LOOPS_PER_PRINT == 0:\n",
    "          '''print(f'Epoch: {i + 1:06d} | '\n",
    "                f'one epoch time: {time_elapsed:.3f} | '\n",
    "                f'bob one bit wrong: {bob_one_bit_wrong_mean:.4f} |'\n",
    "                f'eve one bit wrong: {eve_one_bit_wrong_mean:.4f}')'''\n",
    "          print(\"\\rEpoch {:3}: {:3}% | abe: {:2.3f} | eve: {:2.3f} | bob: {:2.3f}\".format(\n",
    "                i, 100 * k // 128, bob_one_bit_wrong_mean, eve_one_bit_wrong_mean, bob_one), end=\"\")\n",
    "          sys.stdout.flush()\n",
    "        alice_bob_wrong_for_plot.append(bob_one_bit_wrong_mean)\n",
    "        eve_wrong_for_plot.append(eve_one_bit_wrong_mean)\n",
    "\n",
    "  plot_wrong(alice_bob_wrong_for_plot,eve_wrong_for_plot)\n",
    "  \n",
    "  checkpoint={'alice_bob':Network(),\n",
    "                'state_dict': alice_bob.state_dict(),\n",
    "                'optimizer': optimizer_alice_bob.state_dict()\n",
    "                }\n",
    "  torch.save(checkpoint,'checkpoint1.pth')\n",
    "  checkpoint1={'eve': Network2(),\n",
    "                'state_dict1': eve.state_dict(),\n",
    "                'optimizer1': optimizer_eve.state_dict()\n",
    "                }\n",
    "  torch.save(checkpoint1,'checkpoint11.pth')\n",
    "\n",
    "\n",
    "\n",
    "\n",
    "if __name__ == \"__main__\":\n",
    "\n",
    "    train()\n",
    "\n",
    "\n",
    "\n"
   ]
  },
  {
   "cell_type": "code",
   "execution_count": null,
   "metadata": {
    "ExecuteTime": {
     "end_time": "2020-01-16T16:08:34.665855Z",
     "start_time": "2020-01-16T16:08:34.657443Z"
    },
    "colab": {},
    "colab_type": "code",
    "id": "SAycF6hnf_c2"
   },
   "outputs": [],
   "source": []
  },
  {
   "cell_type": "code",
   "execution_count": 22,
   "metadata": {
    "ExecuteTime": {
     "end_time": "2020-01-17T16:15:27.924903Z",
     "start_time": "2020-01-17T16:15:27.920685Z"
    },
    "colab": {},
    "colab_type": "code",
    "id": "IxwZafAA65Ij"
   },
   "outputs": [],
   "source": [
    "def load_checkpoint(filepath):\n",
    "    checkpoint = torch.load(filepath)\n",
    "    model = checkpoint['alice_bob']\n",
    "    model.load_state_dict(checkpoint['state_dict'])\n",
    "    for parameter in model.parameters():\n",
    "        parameter.requires_grad = False\n",
    "\n",
    "    model.eval()\n",
    "    return model"
   ]
  },
  {
   "cell_type": "code",
   "execution_count": 23,
   "metadata": {
    "ExecuteTime": {
     "end_time": "2020-01-17T16:15:28.317348Z",
     "start_time": "2020-01-17T16:15:28.311537Z"
    }
   },
   "outputs": [],
   "source": [
    "def load_checkpoint1(filepath):\n",
    "    checkpoint = torch.load(filepath)\n",
    "    model = checkpoint['eve']\n",
    "    model.load_state_dict(checkpoint['state_dict1'])\n",
    "    for parameter in model.parameters():\n",
    "        parameter.requires_grad = False\n",
    "\n",
    "    model.eval()\n",
    "    return model"
   ]
  },
  {
   "cell_type": "code",
   "execution_count": 38,
   "metadata": {
    "ExecuteTime": {
     "end_time": "2020-01-17T17:25:41.735811Z",
     "start_time": "2020-01-17T17:25:41.715993Z"
    },
    "colab": {
     "base_uri": "https://localhost:8080/",
     "height": 191
    },
    "colab_type": "code",
    "executionInfo": {
     "elapsed": 541,
     "status": "ok",
     "timestamp": 1579040767262,
     "user": {
      "displayName": "Mohamed Sylla",
      "photoUrl": "https://lh3.googleusercontent.com/a-/AAuE7mBKfYHnfASbRKLMoEv9zPmn34chrf6Ht3N0YX3R=s64",
      "userId": "02630255124911373577"
     },
     "user_tz": 0
    },
    "id": "JEIZPnO4NHO4",
    "outputId": "7626cc32-f4f8-4072-f59e-94b81e4e48fb"
   },
   "outputs": [
    {
     "name": "stdout",
     "output_type": "stream",
     "text": [
      "ciphetext:\n",
      "tensor([0., 0., 0., 1.])\n",
      "\n",
      " Real ptext:\n",
      "[0. 0. 0. 1.]\n",
      "\n",
      "ptext  key:\n",
      "[0. 0. 0. 0.]\n",
      "\n",
      "key\n"
     ]
    }
   ],
   "source": [
    "\n",
    "def validate():\n",
    "    \"\"\"\n",
    "    generate a ptext and key and compare them to the output of the model\n",
    "    :return:\n",
    "    \"\"\"\n",
    "    fail=0\n",
    "    count=0\n",
    "    for i in range(1):\n",
    "\n",
    "      data = gen_data(BATCH_SIZE, MSG_TEXT, KEY_TEXT)\n",
    "      msg = torch.tensor(data[0], dtype=torch.float)\n",
    "      key = torch.tensor(data[1], dtype=torch.float)\n",
    "\n",
    "      #alice_bob= model_load_checkpoint()\n",
    "      alice_bob = load_checkpoint('checkpoint1.pth')\n",
    "      eve = load_checkpoint1('checkpoint11.pth')\n",
    "      alice_bob.l1.weight=torch.nn.Parameter(alice_bob.l1.weight.round()) #Not rounded off\n",
    "      eve.l1.weight=torch.nn.Parameter(eve.l1.weight.round()) #Not rounded off\n",
    "      with torch.no_grad():\n",
    "        ctext = alice_bob(torch.cat((msg, key), 1))\n",
    "\n",
    "      with torch.no_grad():\n",
    "        predict_ptext_bob = alice_bob(torch.cat((ctext, key), 1))\n",
    "        predict_ptext_eve = eve(ctext)\n",
    "    \n",
    "\n",
    "      # for better print\n",
    "      ptext = msg.cpu().detach().numpy()\n",
    "      key = key.cpu().detach().numpy()\n",
    "      predict_ptext_bob = predict_ptext_bob.cpu().detach().numpy()\n",
    "      predict_ptext_eve = predict_ptext_eve.cpu().detach().numpy()\n",
    "\n",
    "      print('ciphetext:\\n{}\\n\\n Real ptext:\\n{}\\n\\nptext  key:\\n{}\\n\\nkey'.format(ctext[0],ptext[0],key[0]))\n",
    "    #print(count,fail) \n",
    "\n",
    "    \n",
    "\n",
    "if __name__ == '__main__':\n",
    "    validate()"
   ]
  },
  {
   "cell_type": "code",
   "execution_count": null,
   "metadata": {
    "colab": {},
    "colab_type": "code",
    "id": "MIht-VTrKUwQ"
   },
   "outputs": [],
   "source": []
  },
  {
   "cell_type": "code",
   "execution_count": null,
   "metadata": {},
   "outputs": [],
   "source": []
  },
  {
   "cell_type": "code",
   "execution_count": null,
   "metadata": {},
   "outputs": [],
   "source": []
  }
 ],
 "metadata": {
  "colab": {
   "authorship_tag": "ABX9TyMZ1aS+5hMdUwHExKD4tV/S",
   "collapsed_sections": [],
   "name": " Second Alice And Bob.ipynb",
   "provenance": []
  },
  "hide_input": false,
  "kernelspec": {
   "display_name": "Python 3",
   "language": "python",
   "name": "python3"
  },
  "language_info": {
   "codemirror_mode": {
    "name": "ipython",
    "version": 3
   },
   "file_extension": ".py",
   "mimetype": "text/x-python",
   "name": "python",
   "nbconvert_exporter": "python",
   "pygments_lexer": "ipython3",
   "version": "3.7.3"
  },
  "latex_envs": {
   "LaTeX_envs_menu_present": true,
   "autoclose": false,
   "autocomplete": true,
   "bibliofile": "biblio.bib",
   "cite_by": "apalike",
   "current_citInitial": 1,
   "eqLabelWithNumbers": true,
   "eqNumInitial": 1,
   "hotkeys": {
    "equation": "Ctrl-E",
    "itemize": "Ctrl-I"
   },
   "labels_anchors": false,
   "latex_user_defs": false,
   "report_style_numbering": false,
   "user_envs_cfg": false
  },
  "toc": {
   "base_numbering": 1,
   "nav_menu": {},
   "number_sections": true,
   "sideBar": true,
   "skip_h1_title": false,
   "title_cell": "Table of Contents",
   "title_sidebar": "Contents",
   "toc_cell": false,
   "toc_position": {},
   "toc_section_display": true,
   "toc_window_display": false
  },
  "varInspector": {
   "cols": {
    "lenName": 16,
    "lenType": 16,
    "lenVar": 40
   },
   "kernels_config": {
    "python": {
     "delete_cmd_postfix": "",
     "delete_cmd_prefix": "del ",
     "library": "var_list.py",
     "varRefreshCmd": "print(var_dic_list())"
    },
    "r": {
     "delete_cmd_postfix": ") ",
     "delete_cmd_prefix": "rm(",
     "library": "var_list.r",
     "varRefreshCmd": "cat(var_dic_list()) "
    }
   },
   "types_to_exclude": [
    "module",
    "function",
    "builtin_function_or_method",
    "instance",
    "_Feature"
   ],
   "window_display": false
  }
 },
 "nbformat": 4,
 "nbformat_minor": 1
}
